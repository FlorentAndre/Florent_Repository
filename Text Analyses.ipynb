{
 "cells": [
  {
   "cell_type": "markdown",
   "metadata": {},
   "source": [
    "# Text Analysis - Florent Andre"
   ]
  },
  {
   "cell_type": "markdown",
   "metadata": {},
   "source": [
    "# Summary\n",
    "\n",
    "In this analysis, I will the analyse the customer's sentiments from reviews by Amazon users left up to October 2012"
   ]
  },
  {
   "cell_type": "code",
   "execution_count": 1,
   "metadata": {},
   "outputs": [
    {
     "name": "stderr",
     "output_type": "stream",
     "text": [
      "C:\\Program Files\\Anaconda3\\lib\\site-packages\\past\\types\\oldstr.py:33: DeprecationWarning:\n",
      "\n",
      "invalid escape sequence \\d\n",
      "\n",
      "C:\\Program Files\\Anaconda3\\lib\\site-packages\\nose\\config.py:178: DeprecationWarning:\n",
      "\n",
      "invalid escape sequence \\.\n",
      "\n",
      "C:\\Program Files\\Anaconda3\\lib\\site-packages\\nltk\\decorators.py:68: DeprecationWarning:\n",
      "\n",
      "`formatargspec` is deprecated since Python 3.5. Use `signature` and the `Signature` object directly\n",
      "\n",
      "C:\\Program Files\\Anaconda3\\lib\\site-packages\\nltk\\featstruct.py:1296: DeprecationWarning:\n",
      "\n",
      "invalid escape sequence \\d\n",
      "\n",
      "C:\\Program Files\\Anaconda3\\lib\\site-packages\\nltk\\featstruct.py:2092: DeprecationWarning:\n",
      "\n",
      "invalid escape sequence \\d\n",
      "\n",
      "C:\\Program Files\\Anaconda3\\lib\\site-packages\\nltk\\sem\\evaluate.py:311: DeprecationWarning:\n",
      "\n",
      "invalid escape sequence \\ \n",
      "\n",
      "C:\\Program Files\\Anaconda3\\lib\\site-packages\\nltk\\sem\\relextract.py:135: DeprecationWarning:\n",
      "\n",
      "invalid escape sequence \\w\n",
      "\n",
      "C:\\Program Files\\Anaconda3\\lib\\site-packages\\nltk\\sem\\relextract.py:414: DeprecationWarning:\n",
      "\n",
      "invalid escape sequence \\s\n",
      "\n",
      "C:\\Program Files\\Anaconda3\\lib\\site-packages\\nltk\\sem\\boxer.py:779: DeprecationWarning:\n",
      "\n",
      "invalid escape sequence \\d\n",
      "\n",
      "C:\\Program Files\\Anaconda3\\lib\\site-packages\\nltk\\sem\\drt.py:720: DeprecationWarning:\n",
      "\n",
      "invalid escape sequence \\ \n",
      "\n",
      "C:\\Program Files\\Anaconda3\\lib\\site-packages\\nltk\\sem\\drt.py:721: DeprecationWarning:\n",
      "\n",
      "invalid escape sequence \\ \n",
      "\n",
      "C:\\Program Files\\Anaconda3\\lib\\site-packages\\nltk\\grammar.py:1188: DeprecationWarning:\n",
      "\n",
      "invalid escape sequence \\*\n",
      "\n",
      "C:\\Program Files\\Anaconda3\\lib\\site-packages\\nltk\\grammar.py:1360: DeprecationWarning:\n",
      "\n",
      "invalid escape sequence \\w\n",
      "\n",
      "C:\\Program Files\\Anaconda3\\lib\\site-packages\\nltk\\text.py:583: DeprecationWarning:\n",
      "\n",
      "invalid escape sequence \\w\n",
      "\n",
      "C:\\Program Files\\Anaconda3\\lib\\site-packages\\nltk\\tree.py:99: DeprecationWarning:\n",
      "\n",
      "invalid escape sequence \\ \n",
      "\n",
      "C:\\Program Files\\Anaconda3\\lib\\site-packages\\nltk\\tree.py:646: DeprecationWarning:\n",
      "\n",
      "invalid escape sequence \\s\n",
      "\n",
      "C:\\Program Files\\Anaconda3\\lib\\site-packages\\nltk\\tree.py:652: DeprecationWarning:\n",
      "\n",
      "invalid escape sequence \\s\n",
      "\n",
      "C:\\Program Files\\Anaconda3\\lib\\site-packages\\nltk\\tree.py:654: DeprecationWarning:\n",
      "\n",
      "invalid escape sequence \\s\n",
      "\n",
      "C:\\Program Files\\Anaconda3\\lib\\site-packages\\nltk\\tree.py:656: DeprecationWarning:\n",
      "\n",
      "invalid escape sequence \\s\n",
      "\n",
      "C:\\Program Files\\Anaconda3\\lib\\site-packages\\nltk\\tree.py:883: DeprecationWarning:\n",
      "\n",
      "invalid escape sequence \\$\n",
      "\n",
      "C:\\Program Files\\Anaconda3\\lib\\site-packages\\nltk\\parse\\chart.py:1038: DeprecationWarning:\n",
      "\n",
      "invalid escape sequence \\*\n",
      "\n",
      "C:\\Program Files\\Anaconda3\\lib\\site-packages\\nltk\\parse\\chart.py:1077: DeprecationWarning:\n",
      "\n",
      "invalid escape sequence \\*\n",
      "\n",
      "C:\\Program Files\\Anaconda3\\lib\\site-packages\\nltk\\parse\\chart.py:1132: DeprecationWarning:\n",
      "\n",
      "invalid escape sequence \\*\n",
      "\n",
      "C:\\Program Files\\Anaconda3\\lib\\site-packages\\nltk\\parse\\chart.py:1152: DeprecationWarning:\n",
      "\n",
      "invalid escape sequence \\*\n",
      "\n",
      "C:\\Program Files\\Anaconda3\\lib\\site-packages\\nltk\\parse\\chart.py:1222: DeprecationWarning:\n",
      "\n",
      "invalid escape sequence \\*\n",
      "\n",
      "C:\\Program Files\\Anaconda3\\lib\\site-packages\\nltk\\parse\\chart.py:1245: DeprecationWarning:\n",
      "\n",
      "invalid escape sequence \\*\n",
      "\n",
      "C:\\Program Files\\Anaconda3\\lib\\site-packages\\nltk\\parse\\featurechart.py:273: DeprecationWarning:\n",
      "\n",
      "invalid escape sequence \\*\n",
      "\n",
      "C:\\Program Files\\Anaconda3\\lib\\site-packages\\nltk\\parse\\featurechart.py:372: DeprecationWarning:\n",
      "\n",
      "invalid escape sequence \\*\n",
      "\n",
      "C:\\Program Files\\Anaconda3\\lib\\site-packages\\nltk\\tag\\sequential.py:740: DeprecationWarning:\n",
      "\n",
      "invalid escape sequence \\w\n",
      "\n",
      "C:\\Program Files\\Anaconda3\\lib\\site-packages\\nltk\\tag\\sequential.py:734: DeprecationWarning:\n",
      "\n",
      "invalid escape sequence \\W\n",
      "\n",
      "C:\\Program Files\\Anaconda3\\lib\\site-packages\\nltk\\tag\\sequential.py:732: DeprecationWarning:\n",
      "\n",
      "invalid escape sequence \\.\n",
      "\n",
      "C:\\Program Files\\Anaconda3\\lib\\site-packages\\nltk\\classify\\rte_classify.py:62: DeprecationWarning:\n",
      "\n",
      "invalid escape sequence \\w\n",
      "\n",
      "C:\\Program Files\\Anaconda3\\lib\\site-packages\\nltk\\tokenize\\punkt.py:1456: DeprecationWarning:\n",
      "\n",
      "invalid escape sequence \\s\n",
      "\n",
      "C:\\Program Files\\Anaconda3\\lib\\site-packages\\nltk\\tokenize\\regexp.py:103: DeprecationWarning:\n",
      "\n",
      "invalid escape sequence \\w\n",
      "\n",
      "C:\\Program Files\\Anaconda3\\lib\\site-packages\\nltk\\tokenize\\regexp.py:196: DeprecationWarning:\n",
      "\n",
      "invalid escape sequence \\w\n",
      "\n",
      "C:\\Program Files\\Anaconda3\\lib\\site-packages\\nltk\\tokenize\\repp.py:135: DeprecationWarning:\n",
      "\n",
      "invalid escape sequence \\(\n",
      "\n",
      "C:\\Program Files\\Anaconda3\\lib\\site-packages\\nltk\\tokenize\\texttiling.py:96: DeprecationWarning:\n",
      "\n",
      "invalid escape sequence \\-\n",
      "\n",
      "C:\\Program Files\\Anaconda3\\lib\\site-packages\\nltk\\tokenize\\texttiling.py:229: DeprecationWarning:\n",
      "\n",
      "invalid escape sequence \\w\n",
      "\n",
      "C:\\Program Files\\Anaconda3\\lib\\site-packages\\nltk\\tokenize\\toktok.py:53: DeprecationWarning:\n",
      "\n",
      "invalid escape sequence \\]\n",
      "\n",
      "C:\\Program Files\\Anaconda3\\lib\\site-packages\\nltk\\tokenize\\toktok.py:55: DeprecationWarning:\n",
      "\n",
      "invalid escape sequence \\[\n",
      "\n",
      "C:\\Program Files\\Anaconda3\\lib\\site-packages\\nltk\\tokenize\\toktok.py:62: DeprecationWarning:\n",
      "\n",
      "invalid escape sequence \\|\n",
      "\n",
      "C:\\Program Files\\Anaconda3\\lib\\site-packages\\nltk\\tokenize\\treebank.py:269: DeprecationWarning:\n",
      "\n",
      "invalid escape sequence \\]\n",
      "\n",
      "C:\\Program Files\\Anaconda3\\lib\\site-packages\\nltk\\tokenize\\treebank.py:273: DeprecationWarning:\n",
      "\n",
      "invalid escape sequence \\s\n",
      "\n",
      "C:\\Program Files\\Anaconda3\\lib\\site-packages\\nltk\\tokenize\\treebank.py:277: DeprecationWarning:\n",
      "\n",
      "invalid escape sequence \\s\n",
      "\n",
      "C:\\Program Files\\Anaconda3\\lib\\site-packages\\nltk\\classify\\maxent.py:1355: DeprecationWarning:\n",
      "\n",
      "invalid escape sequence \\ \n",
      "\n",
      "C:\\Program Files\\Anaconda3\\lib\\site-packages\\nltk\\chunk\\util.py:373: DeprecationWarning:\n",
      "\n",
      "invalid escape sequence \\S\n",
      "\n",
      "C:\\Program Files\\Anaconda3\\lib\\site-packages\\nltk\\chunk\\util.py:519: DeprecationWarning:\n",
      "\n",
      "invalid escape sequence \\w\n",
      "\n",
      "C:\\Program Files\\Anaconda3\\lib\\site-packages\\nltk\\chunk\\util.py:528: DeprecationWarning:\n",
      "\n",
      "invalid escape sequence \\s\n",
      "\n",
      "C:\\Program Files\\Anaconda3\\lib\\site-packages\\nltk\\chunk\\regexp.py:73: DeprecationWarning:\n",
      "\n",
      "invalid escape sequence \\{\n",
      "\n",
      "C:\\Program Files\\Anaconda3\\lib\\site-packages\\nltk\\chunk\\regexp.py:218: DeprecationWarning:\n",
      "\n",
      "invalid escape sequence \\{\n",
      "\n",
      "C:\\Program Files\\Anaconda3\\lib\\site-packages\\nltk\\chunk\\regexp.py:431: DeprecationWarning:\n",
      "\n",
      "invalid escape sequence \\g\n",
      "\n",
      "C:\\Program Files\\Anaconda3\\lib\\site-packages\\nltk\\chunk\\regexp.py:477: DeprecationWarning:\n",
      "\n",
      "invalid escape sequence \\g\n",
      "\n",
      "C:\\Program Files\\Anaconda3\\lib\\site-packages\\nltk\\chunk\\regexp.py:517: DeprecationWarning:\n",
      "\n",
      "invalid escape sequence \\{\n",
      "\n",
      "C:\\Program Files\\Anaconda3\\lib\\site-packages\\nltk\\chunk\\regexp.py:518: DeprecationWarning:\n",
      "\n",
      "invalid escape sequence \\g\n",
      "\n",
      "C:\\Program Files\\Anaconda3\\lib\\site-packages\\nltk\\chunk\\regexp.py:583: DeprecationWarning:\n",
      "\n",
      "invalid escape sequence \\g\n",
      "\n",
      "C:\\Program Files\\Anaconda3\\lib\\site-packages\\nltk\\chunk\\regexp.py:718: DeprecationWarning:\n",
      "\n",
      "invalid escape sequence \\{\n",
      "\n",
      "C:\\Program Files\\Anaconda3\\lib\\site-packages\\nltk\\chunk\\regexp.py:724: DeprecationWarning:\n",
      "\n",
      "invalid escape sequence \\g\n",
      "\n",
      "C:\\Program Files\\Anaconda3\\lib\\site-packages\\nltk\\chunk\\regexp.py:789: DeprecationWarning:\n",
      "\n",
      "invalid escape sequence \\}\n",
      "\n",
      "C:\\Program Files\\Anaconda3\\lib\\site-packages\\nltk\\chunk\\regexp.py:795: DeprecationWarning:\n",
      "\n",
      "invalid escape sequence \\g\n",
      "\n",
      "C:\\Program Files\\Anaconda3\\lib\\site-packages\\nltk\\chunk\\regexp.py:908: DeprecationWarning:\n",
      "\n",
      "invalid escape sequence \\{\n",
      "\n",
      "C:\\Program Files\\Anaconda3\\lib\\site-packages\\nltk\\chunk\\regexp.py:908: DeprecationWarning:\n",
      "\n",
      "invalid escape sequence \\{\n",
      "\n",
      "C:\\Program Files\\Anaconda3\\lib\\site-packages\\nltk\\chunk\\regexp.py:1189: DeprecationWarning:\n",
      "\n",
      "invalid escape sequence \\.\n",
      "\n",
      "C:\\Program Files\\Anaconda3\\lib\\site-packages\\nltk\\inference\\discourse.py:44: DeprecationWarning:\n",
      "\n",
      "invalid escape sequence \\ \n",
      "\n",
      "C:\\Program Files\\Anaconda3\\lib\\site-packages\\nltk\\stem\\lancaster.py:195: DeprecationWarning:\n",
      "\n",
      "invalid escape sequence \\*\n",
      "\n",
      "C:\\Program Files\\Anaconda3\\lib\\site-packages\\nltk\\stem\\lancaster.py:228: DeprecationWarning:\n",
      "\n",
      "invalid escape sequence \\*\n",
      "\n",
      "C:\\Program Files\\Anaconda3\\lib\\site-packages\\nltk\\stem\\porter.py:181: DeprecationWarning:\n",
      "\n",
      "invalid escape sequence \\m\n",
      "\n",
      "C:\\Program Files\\Anaconda3\\lib\\site-packages\\nltk\\corpus\\__init__.py:116: DeprecationWarning:\n",
      "\n",
      "invalid escape sequence \\.\n",
      "\n",
      "C:\\Program Files\\Anaconda3\\lib\\site-packages\\nltk\\corpus\\__init__.py:123: DeprecationWarning:\n",
      "\n",
      "invalid escape sequence \\.\n",
      "\n",
      "C:\\Program Files\\Anaconda3\\lib\\site-packages\\nltk\\corpus\\__init__.py:126: DeprecationWarning:\n",
      "\n",
      "invalid escape sequence \\.\n",
      "\n",
      "C:\\Program Files\\Anaconda3\\lib\\site-packages\\nltk\\corpus\\__init__.py:128: DeprecationWarning:\n",
      "\n",
      "invalid escape sequence \\.\n",
      "\n",
      "C:\\Program Files\\Anaconda3\\lib\\site-packages\\nltk\\corpus\\__init__.py:311: DeprecationWarning:\n",
      "\n",
      "invalid escape sequence \\.\n",
      "\n",
      "C:\\Program Files\\Anaconda3\\lib\\site-packages\\nltk\\corpus\\__init__.py:335: DeprecationWarning:\n",
      "\n",
      "invalid escape sequence \\.\n",
      "\n",
      "C:\\Program Files\\Anaconda3\\lib\\site-packages\\nltk\\corpus\\__init__.py:364: DeprecationWarning:\n",
      "\n",
      "invalid escape sequence \\.\n",
      "\n",
      "C:\\Program Files\\Anaconda3\\lib\\site-packages\\nltk\\corpus\\__init__.py:374: DeprecationWarning:\n",
      "\n",
      "invalid escape sequence \\.\n",
      "\n",
      "C:\\Program Files\\Anaconda3\\lib\\site-packages\\nltk\\corpus\\__init__.py:383: DeprecationWarning:\n",
      "\n",
      "invalid escape sequence \\.\n",
      "\n",
      "C:\\Program Files\\Anaconda3\\lib\\site-packages\\nltk\\corpus\\__init__.py:392: DeprecationWarning:\n",
      "\n",
      "invalid escape sequence \\.\n",
      "\n",
      "C:\\Program Files\\Anaconda3\\lib\\site-packages\\nltk\\corpus\\__init__.py:401: DeprecationWarning:\n",
      "\n",
      "invalid escape sequence \\.\n",
      "\n",
      "C:\\Program Files\\Anaconda3\\lib\\site-packages\\nltk\\corpus\\reader\\plaintext.py:62: DeprecationWarning:\n",
      "\n",
      "invalid escape sequence \\.\n",
      "\n",
      "C:\\Program Files\\Anaconda3\\lib\\site-packages\\nltk\\corpus\\reader\\util.py:635: DeprecationWarning:\n",
      "\n",
      "invalid escape sequence \\d\n",
      "\n",
      "C:\\Program Files\\Anaconda3\\lib\\site-packages\\nltk\\corpus\\reader\\util.py:859: DeprecationWarning:\n",
      "\n",
      "invalid escape sequence \\s\n",
      "\n",
      "C:\\Program Files\\Anaconda3\\lib\\site-packages\\nltk\\corpus\\reader\\api.py:80: DeprecationWarning:\n",
      "\n",
      "invalid escape sequence \\.\n",
      "\n",
      "C:\\Program Files\\Anaconda3\\lib\\site-packages\\nltk\\corpus\\reader\\timit.py:168: DeprecationWarning:\n",
      "\n",
      "invalid escape sequence \\.\n",
      "\n"
     ]
    },
    {
     "name": "stderr",
     "output_type": "stream",
     "text": [
      "C:\\Program Files\\Anaconda3\\lib\\site-packages\\nltk\\corpus\\reader\\bracket_parse.py:214: DeprecationWarning:\n",
      "\n",
      "invalid escape sequence \\.\n",
      "\n",
      "C:\\Program Files\\Anaconda3\\lib\\site-packages\\nltk\\corpus\\reader\\xmldocs.py:233: DeprecationWarning:\n",
      "\n",
      "invalid escape sequence \\s\n",
      "\n",
      "C:\\Program Files\\Anaconda3\\lib\\site-packages\\nltk\\toolbox.py:210: DeprecationWarning:\n",
      "\n",
      "invalid escape sequence \\_\n",
      "\n",
      "C:\\Program Files\\Anaconda3\\lib\\site-packages\\nltk\\corpus\\reader\\bnc.py:29: DeprecationWarning:\n",
      "\n",
      "invalid escape sequence \\w\n",
      "\n",
      "C:\\Program Files\\Anaconda3\\lib\\site-packages\\nltk\\corpus\\reader\\switchboard.py:116: DeprecationWarning:\n",
      "\n",
      "invalid escape sequence \\w\n",
      "\n",
      "C:\\Program Files\\Anaconda3\\lib\\site-packages\\nltk\\corpus\\reader\\childes.py:282: DeprecationWarning:\n",
      "\n",
      "invalid escape sequence \\d\n",
      "\n",
      "C:\\Program Files\\Anaconda3\\lib\\site-packages\\nltk\\corpus\\reader\\framenet.py:2761: DeprecationWarning:\n",
      "\n",
      "invalid escape sequence \\w\n",
      "\n",
      "C:\\Program Files\\Anaconda3\\lib\\site-packages\\nltk\\corpus\\reader\\udhr.py:31: DeprecationWarning:\n",
      "\n",
      "invalid escape sequence \\-\n",
      "\n",
      "C:\\Program Files\\Anaconda3\\lib\\site-packages\\nltk\\corpus\\reader\\twitter.py:54: DeprecationWarning:\n",
      "\n",
      "invalid escape sequence \\.\n",
      "\n",
      "C:\\Program Files\\Anaconda3\\lib\\site-packages\\nltk\\draw\\cfg.py:166: DeprecationWarning:\n",
      "\n",
      "invalid escape sequence \\s\n",
      "\n",
      "C:\\Program Files\\Anaconda3\\lib\\site-packages\\nltk\\draw\\cfg.py:166: DeprecationWarning:\n",
      "\n",
      "invalid escape sequence \\s\n",
      "\n",
      "C:\\Program Files\\Anaconda3\\lib\\site-packages\\nltk\\draw\\cfg.py:171: DeprecationWarning:\n",
      "\n",
      "invalid escape sequence \\s\n",
      "\n",
      "C:\\Program Files\\Anaconda3\\lib\\site-packages\\nltk\\ccg\\combinator.py:232: DeprecationWarning:\n",
      "\n",
      "invalid escape sequence \\Y\n",
      "\n",
      "C:\\Program Files\\Anaconda3\\lib\\site-packages\\nltk\\treetransforms.py:108: DeprecationWarning:\n",
      "\n",
      "invalid escape sequence \\ \n",
      "\n",
      "[nltk_data] Downloading package punkt to\n",
      "[nltk_data]     C:\\Users\\C3134161\\AppData\\Roaming\\nltk_data...\n",
      "[nltk_data]   Package punkt is already up-to-date!\n",
      "[nltk_data] Downloading package stopwords to\n",
      "[nltk_data]     C:\\Users\\C3134161\\AppData\\Roaming\\nltk_data...\n",
      "[nltk_data]   Package stopwords is already up-to-date!\n",
      "[nltk_data] Downloading package wordnet to\n",
      "[nltk_data]     C:\\Users\\C3134161\\AppData\\Roaming\\nltk_data...\n",
      "[nltk_data]   Package wordnet is already up-to-date!\n",
      "C:\\Program Files\\Anaconda3\\lib\\site-packages\\boto\\__init__.py:1142: DeprecationWarning:\n",
      "\n",
      "invalid escape sequence \\c\n",
      "\n",
      "C:\\Program Files\\Anaconda3\\lib\\site-packages\\boto\\pyami\\config.py:98: DeprecationWarning:\n",
      "\n",
      "invalid escape sequence \\s\n",
      "\n",
      "C:\\Program Files\\Anaconda3\\lib\\site-packages\\scipy\\sparse\\sparsetools.py:21: DeprecationWarning:\n",
      "\n",
      "`scipy.sparse.sparsetools` is deprecated!\n",
      "scipy.sparse.sparsetools is a private module for scipy.sparse, and should not be used.\n",
      "\n"
     ]
    }
   ],
   "source": [
    "# Importing all libraries \n",
    "# For data and matrix manipulation\n",
    "import pandas as pd\n",
    "import numpy as np\n",
    "# For visualisation\n",
    "import seaborn as sns\n",
    "import matplotlib.pyplot as plt\n",
    "from wordcloud import WordCloud, STOPWORDS, ImageColorGenerator\n",
    "import cufflinks as cf\n",
    "import plotly.graph_objs as go\n",
    "from chart_studio.plotly import iplot\n",
    "import pyLDAvis.gensim  # Visualise topics\n",
    "from plotly import graph_objs as go\n",
    "import plotly.express as px\n",
    "import plotly.figure_factory as ff\n",
    "from collections import Counter\n",
    "# For string manipulation\n",
    "import re \n",
    "import string\n",
    "# For text pre-processing\n",
    "import nltk\n",
    "from nltk.tokenize import word_tokenize, sent_tokenize\n",
    "from nltk.corpus import stopwords, wordnet\n",
    "from nltk.stem import PorterStemmer, WordNetLemmatizer\n",
    "from nltk import pos_tag  # Tag words with parts of speech\n",
    "from collections import defaultdict  # Dictionaries that have a backup value\n",
    "# Necessary dependencies from NLTK\n",
    "nltk.download('punkt')\n",
    "nltk.download('stopwords')\n",
    "nltk.download('wordnet')\n",
    "\n",
    "from textblob import TextBlob # For assigning sentiment polarity scores\n",
    "from sklearn.feature_extraction.text import CountVectorizer # For extracting features such as the document-term matrix\n",
    "from sklearn.model_selection import train_test_split\n",
    "from sklearn.naive_bayes import MultinomialNB # Naive Bayes model\n",
    "from sklearn.tree import DecisionTreeClassifier # Decision Tree model\n",
    "from sklearn.metrics import accuracy_score, classification_report # To evaluate the models \n",
    "from gensim.models.ldamodel import LdaModel  # Topic extraction\n",
    "from gensim.models.phrases import Phrases  # ngrams\n",
    "from gensim import corpora  # Vectorization\n",
    "\n",
    "# Ignore pink warnings\n",
    "import warnings\n",
    "warnings.filterwarnings('ignore')\n",
    "\n",
    "#from PIL import Image\n",
    "#from tqdm import tqdm\n",
    "#import os\n",
    "#import random"
   ]
  },
  {
   "cell_type": "markdown",
   "metadata": {},
   "source": [
    "# Importing the data"
   ]
  },
  {
   "cell_type": "code",
   "execution_count": 2,
   "metadata": {},
   "outputs": [
    {
     "data": {
      "text/html": [
       "<div>\n",
       "<style scoped>\n",
       "    .dataframe tbody tr th:only-of-type {\n",
       "        vertical-align: middle;\n",
       "    }\n",
       "\n",
       "    .dataframe tbody tr th {\n",
       "        vertical-align: top;\n",
       "    }\n",
       "\n",
       "    .dataframe thead th {\n",
       "        text-align: right;\n",
       "    }\n",
       "</style>\n",
       "<table border=\"1\" class=\"dataframe\">\n",
       "  <thead>\n",
       "    <tr style=\"text-align: right;\">\n",
       "      <th></th>\n",
       "      <th>Id</th>\n",
       "      <th>ProductId</th>\n",
       "      <th>UserId</th>\n",
       "      <th>ProfileName</th>\n",
       "      <th>HelpfulnessNumerator</th>\n",
       "      <th>HelpfulnessDenominator</th>\n",
       "      <th>Score</th>\n",
       "      <th>Time</th>\n",
       "      <th>Summary</th>\n",
       "      <th>Text</th>\n",
       "    </tr>\n",
       "  </thead>\n",
       "  <tbody>\n",
       "    <tr>\n",
       "      <th>0</th>\n",
       "      <td>1</td>\n",
       "      <td>B001E4KFG0</td>\n",
       "      <td>A3SGXH7AUHU8GW</td>\n",
       "      <td>delmartian</td>\n",
       "      <td>1</td>\n",
       "      <td>1</td>\n",
       "      <td>5</td>\n",
       "      <td>1303862400</td>\n",
       "      <td>Good Quality Dog Food</td>\n",
       "      <td>I have bought several of the Vitality canned d...</td>\n",
       "    </tr>\n",
       "  </tbody>\n",
       "</table>\n",
       "</div>"
      ],
      "text/plain": [
       "   Id   ProductId          UserId ProfileName  HelpfulnessNumerator  \\\n",
       "0   1  B001E4KFG0  A3SGXH7AUHU8GW  delmartian                     1   \n",
       "\n",
       "   HelpfulnessDenominator  Score        Time                Summary  \\\n",
       "0                       1      5  1303862400  Good Quality Dog Food   \n",
       "\n",
       "                                                Text  \n",
       "0  I have bought several of the Vitality canned d...  "
      ]
     },
     "execution_count": 2,
     "metadata": {},
     "output_type": "execute_result"
    }
   ],
   "source": [
    "df = pd.read_csv(\"Reviews.csv\")\n",
    "df.head(1)"
   ]
  },
  {
   "cell_type": "code",
   "execution_count": 3,
   "metadata": {},
   "outputs": [
    {
     "data": {
      "text/plain": [
       "(568454, 10)"
      ]
     },
     "execution_count": 3,
     "metadata": {},
     "output_type": "execute_result"
    }
   ],
   "source": [
    "df.shape"
   ]
  },
  {
   "cell_type": "markdown",
   "metadata": {},
   "source": [
    "## What is of interest\n",
    "Let's get an overview of the Score Column"
   ]
  },
  {
   "cell_type": "code",
   "execution_count": 4,
   "metadata": {},
   "outputs": [
    {
     "data": {
      "text/plain": [
       "5    363122\n",
       "4     80655\n",
       "1     52268\n",
       "3     42640\n",
       "2     29769\n",
       "Name: Score, dtype: int64"
      ]
     },
     "execution_count": 4,
     "metadata": {},
     "output_type": "execute_result"
    }
   ],
   "source": [
    "df['Score'].value_counts()"
   ]
  },
  {
   "cell_type": "markdown",
   "metadata": {},
   "source": [
    "### Frequency of each score label in %\n",
    "This allows us to have a clear overall understanding on the performances."
   ]
  },
  {
   "cell_type": "code",
   "execution_count": 5,
   "metadata": {},
   "outputs": [
    {
     "data": {
      "image/png": "[encoded data removed]",
      "text/plain": [
       "<Figure size 432x288 with 1 Axes>"
      ]
     },
     "metadata": {},
     "output_type": "display_data"
    }
   ],
   "source": [
    "review = [52268,29769,42640,80655,363122]\n",
    "\n",
    "my_labels = [1, 2, 3, 4, 5]\n",
    "plt.pie(review,labels=my_labels,autopct='%1.1f%%')\n",
    "plt.title('% Of scoring label')\n",
    "plt.axis('equal')\n",
    "plt.show()"
   ]
  },
  {
   "cell_type": "markdown",
   "metadata": {},
   "source": [
    "## Next\n",
    "\n",
    "I will capture the \"text\" column only."
   ]
  },
  {
   "cell_type": "code",
   "execution_count": 6,
   "metadata": {},
   "outputs": [],
   "source": [
    "df = df[[\"Text\"]]"
   ]
  },
  {
   "cell_type": "markdown",
   "metadata": {},
   "source": [
    "# Data cleansing"
   ]
  },
  {
   "cell_type": "markdown",
   "metadata": {},
   "source": [
    "## Text cleansing for Punctuation\n",
    "\n",
    "I will carry out the cleansing of text through multiple steps."
   ]
  },
  {
   "cell_type": "code",
   "execution_count": 7,
   "metadata": {},
   "outputs": [
    {
     "data": {
      "text/plain": [
       "'I got two Teas and one type of iced coffe and the rest were HOLIDAY COFFEES and APPLE CIDER!  Spicy Eggnog? Gingerbread? Bait and swtich.  The only redeeming factor - Amazon was great and issued me a refund.'"
      ]
     },
     "execution_count": 7,
     "metadata": {},
     "output_type": "execute_result"
    }
   ],
   "source": [
    "# Pull a random text to check potential problems.\n",
    "df[\"Text\"].iloc[2082]"
   ]
  },
  {
   "cell_type": "code",
   "execution_count": 8,
   "metadata": {},
   "outputs": [],
   "source": [
    "# Convert everything to lower case for simplicity\n",
    "df[\"Text\"] = df[\"Text\"].str.lower()\n",
    "# Remove @, & and #, \n",
    "df[\"Text\"] = df[\"Text\"].replace(to_replace=r\"[#@&]\\w\\s\\+\", value=\" \", regex=True)\n",
    "# Deal with quote marks being difficult\n",
    "df[\"Text\"] = df[\"Text\"].replace(to_replace=\"(\\u2019)\", value=\"'\", regex=True)\n",
    "# Replace the most common contractions\n",
    "df[\"Text\"] = df[\"Text\"].replace(to_replace=\"n't\", value=\" not\", regex=True)\n",
    "df[\"Text\"] = df[\"Text\"].replace(to_replace=\"it's\", value=\"it is\", regex=True)\n",
    "df[\"Text\"] = df[\"Text\"].replace(to_replace=\"i've\", value=\"i have\", regex=True)\n",
    "df[\"Text\"] = df[\"Text\"].replace(to_replace=\"i'm\", value=\"i am\", regex=True)\n",
    "df[\"Text\"] = df[\"Text\"].replace(to_replace=\"'s\", value=\"\", regex=True)\n",
    "# Remove ampersands\n",
    "df[\"Text\"] = df[\"Text\"].replace(to_replace=r\"&amp\", value=\"\", regex=True)\n",
    "# Remove links\n",
    "df[\"Text\"] = df[\"Text\"].replace(to_replace=r\"http[s]?:\\/\\/[^\\s]+\", value=\"\", regex=True)\n",
    "# Remove numbers\n",
    "df[\"Text\"] = df[\"Text\"].replace(to_replace=r\"\\d+\", value=\"\", regex=True)\n",
    "# Remove standard punctuation and replace with spaces\n",
    "df[\"Text\"] = df[\"Text\"].replace(to_replace=r\"\\W\", value=\" \", regex=True)\n",
    "# Remove extra spaces\n",
    "df[\"Text\"] = df[\"Text\"].replace(to_replace=r\"\\s+\", value=\" \", regex=True)"
   ]
  },
  {
   "cell_type": "code",
   "execution_count": 9,
   "metadata": {},
   "outputs": [
    {
     "data": {
      "text/plain": [
       "'i got two teas and one type of iced coffe and the rest were holiday coffees and apple cider spicy eggnog gingerbread bait and swtich the only redeeming factor amazon was great and issued me a refund '"
      ]
     },
     "execution_count": 9,
     "metadata": {},
     "output_type": "execute_result"
    }
   ],
   "source": [
    "df[\"Text\"].iloc[2082]"
   ]
  },
  {
   "cell_type": "markdown",
   "metadata": {},
   "source": [
    "## Text cleansing for Words\n",
    "\n",
    "I will Tokenize the column Text so whatever is unstructured will become more usable at a later stage when I will use my machine learning models.\n",
    "\n",
    "I will use lemmatisation to reduce the words back to their roots, such as \"went\" and \"going\" to \"Go\"\n",
    "\n",
    "I will also use stopwords which remove all words that don't add any value to my analysis."
   ]
  },
  {
   "cell_type": "markdown",
   "metadata": {},
   "source": [
    "#### Tokenization "
   ]
  },
  {
   "cell_type": "code",
   "execution_count": 10,
   "metadata": {},
   "outputs": [],
   "source": [
    "# Tokenise the words so they can be dealt with individually\n",
    "df[\"Text\"] = df[\"Text\"].apply(word_tokenize)"
   ]
  },
  {
   "cell_type": "markdown",
   "metadata": {},
   "source": [
    "#### Words removal"
   ]
  },
  {
   "cell_type": "code",
   "execution_count": 13,
   "metadata": {},
   "outputs": [],
   "source": [
    "# Creating of an Ad-Hoc list of specific words wanted removed.\n",
    "newStopWords = ['amazon']\n",
    "# Main common stopwords list.\n",
    "stopwords = nltk.corpus.stopwords.words('english')\n",
    "# Adding Ad-hoc list to the main list\n",
    "stopwords.extend(newStopWords)"
   ]
  },
  {
   "cell_type": "code",
   "execution_count": 14,
   "metadata": {},
   "outputs": [],
   "source": [
    "# Filter the words by removing the words from the stopwords list and words with <=3 letters\n",
    "df[\"Text\"] = df[\"Text\"].apply(lambda x: [y for y in x if y not in stopwords and len(y) > 3])"
   ]
  },
  {
   "cell_type": "markdown",
   "metadata": {},
   "source": [
    "#### Lemmatisation"
   ]
  },
  {
   "cell_type": "code",
   "execution_count": 15,
   "metadata": {},
   "outputs": [
    {
     "ename": "KeyboardInterrupt",
     "evalue": "",
     "output_type": "error",
     "traceback": [
      "\u001b[1;31m---------------------------------------------------------------------------\u001b[0m",
      "\u001b[1;31mKeyboardInterrupt\u001b[0m                         Traceback (most recent call last)",
      "\u001b[1;32m<ipython-input-15-df2b88eec972>\u001b[0m in \u001b[0;36m<module>\u001b[1;34m\u001b[0m\n\u001b[0;32m     16\u001b[0m \u001b[1;33m\u001b[0m\u001b[0m\n\u001b[0;32m     17\u001b[0m \u001b[1;31m# Perform the lemmatization\u001b[0m\u001b[1;33m\u001b[0m\u001b[1;33m\u001b[0m\u001b[1;33m\u001b[0m\u001b[0m\n\u001b[1;32m---> 18\u001b[1;33m \u001b[0mdf\u001b[0m\u001b[1;33m[\u001b[0m\u001b[1;34m\"Text\"\u001b[0m\u001b[1;33m]\u001b[0m \u001b[1;33m=\u001b[0m \u001b[0mdf\u001b[0m\u001b[1;33m[\u001b[0m\u001b[1;34m\"Text\"\u001b[0m\u001b[1;33m]\u001b[0m\u001b[1;33m.\u001b[0m\u001b[0mapply\u001b[0m\u001b[1;33m(\u001b[0m\u001b[1;32mlambda\u001b[0m \u001b[0mx\u001b[0m\u001b[1;33m:\u001b[0m \u001b[1;33m[\u001b[0m\u001b[0mget_lemma\u001b[0m\u001b[1;33m(\u001b[0m\u001b[0mword\u001b[0m\u001b[1;33m)\u001b[0m \u001b[1;32mfor\u001b[0m \u001b[0mword\u001b[0m \u001b[1;32min\u001b[0m \u001b[0mx\u001b[0m\u001b[1;33m]\u001b[0m\u001b[1;33m)\u001b[0m\u001b[1;33m\u001b[0m\u001b[1;33m\u001b[0m\u001b[0m\n\u001b[0m",
      "\u001b[1;32mC:\\Program Files\\Anaconda3\\lib\\site-packages\\pandas\\core\\series.py\u001b[0m in \u001b[0;36mapply\u001b[1;34m(self, func, convert_dtype, args, **kwds)\u001b[0m\n\u001b[0;32m   3589\u001b[0m             \u001b[1;32melse\u001b[0m\u001b[1;33m:\u001b[0m\u001b[1;33m\u001b[0m\u001b[1;33m\u001b[0m\u001b[0m\n\u001b[0;32m   3590\u001b[0m                 \u001b[0mvalues\u001b[0m \u001b[1;33m=\u001b[0m \u001b[0mself\u001b[0m\u001b[1;33m.\u001b[0m\u001b[0mastype\u001b[0m\u001b[1;33m(\u001b[0m\u001b[0mobject\u001b[0m\u001b[1;33m)\u001b[0m\u001b[1;33m.\u001b[0m\u001b[0mvalues\u001b[0m\u001b[1;33m\u001b[0m\u001b[1;33m\u001b[0m\u001b[0m\n\u001b[1;32m-> 3591\u001b[1;33m                 \u001b[0mmapped\u001b[0m \u001b[1;33m=\u001b[0m \u001b[0mlib\u001b[0m\u001b[1;33m.\u001b[0m\u001b[0mmap_infer\u001b[0m\u001b[1;33m(\u001b[0m\u001b[0mvalues\u001b[0m\u001b[1;33m,\u001b[0m \u001b[0mf\u001b[0m\u001b[1;33m,\u001b[0m \u001b[0mconvert\u001b[0m\u001b[1;33m=\u001b[0m\u001b[0mconvert_dtype\u001b[0m\u001b[1;33m)\u001b[0m\u001b[1;33m\u001b[0m\u001b[1;33m\u001b[0m\u001b[0m\n\u001b[0m\u001b[0;32m   3592\u001b[0m \u001b[1;33m\u001b[0m\u001b[0m\n\u001b[0;32m   3593\u001b[0m         \u001b[1;32mif\u001b[0m \u001b[0mlen\u001b[0m\u001b[1;33m(\u001b[0m\u001b[0mmapped\u001b[0m\u001b[1;33m)\u001b[0m \u001b[1;32mand\u001b[0m \u001b[0misinstance\u001b[0m\u001b[1;33m(\u001b[0m\u001b[0mmapped\u001b[0m\u001b[1;33m[\u001b[0m\u001b[1;36m0\u001b[0m\u001b[1;33m]\u001b[0m\u001b[1;33m,\u001b[0m \u001b[0mSeries\u001b[0m\u001b[1;33m)\u001b[0m\u001b[1;33m:\u001b[0m\u001b[1;33m\u001b[0m\u001b[1;33m\u001b[0m\u001b[0m\n",
      "\u001b[1;32mpandas/_libs/lib.pyx\u001b[0m in \u001b[0;36mpandas._libs.lib.map_infer\u001b[1;34m()\u001b[0m\n",
      "\u001b[1;32m<ipython-input-15-df2b88eec972>\u001b[0m in \u001b[0;36m<lambda>\u001b[1;34m(x)\u001b[0m\n\u001b[0;32m     16\u001b[0m \u001b[1;33m\u001b[0m\u001b[0m\n\u001b[0;32m     17\u001b[0m \u001b[1;31m# Perform the lemmatization\u001b[0m\u001b[1;33m\u001b[0m\u001b[1;33m\u001b[0m\u001b[1;33m\u001b[0m\u001b[0m\n\u001b[1;32m---> 18\u001b[1;33m \u001b[0mdf\u001b[0m\u001b[1;33m[\u001b[0m\u001b[1;34m\"Text\"\u001b[0m\u001b[1;33m]\u001b[0m \u001b[1;33m=\u001b[0m \u001b[0mdf\u001b[0m\u001b[1;33m[\u001b[0m\u001b[1;34m\"Text\"\u001b[0m\u001b[1;33m]\u001b[0m\u001b[1;33m.\u001b[0m\u001b[0mapply\u001b[0m\u001b[1;33m(\u001b[0m\u001b[1;32mlambda\u001b[0m \u001b[0mx\u001b[0m\u001b[1;33m:\u001b[0m \u001b[1;33m[\u001b[0m\u001b[0mget_lemma\u001b[0m\u001b[1;33m(\u001b[0m\u001b[0mword\u001b[0m\u001b[1;33m)\u001b[0m \u001b[1;32mfor\u001b[0m \u001b[0mword\u001b[0m \u001b[1;32min\u001b[0m \u001b[0mx\u001b[0m\u001b[1;33m]\u001b[0m\u001b[1;33m)\u001b[0m\u001b[1;33m\u001b[0m\u001b[1;33m\u001b[0m\u001b[0m\n\u001b[0m",
      "\u001b[1;32m<ipython-input-15-df2b88eec972>\u001b[0m in \u001b[0;36m<listcomp>\u001b[1;34m(.0)\u001b[0m\n\u001b[0;32m     16\u001b[0m \u001b[1;33m\u001b[0m\u001b[0m\n\u001b[0;32m     17\u001b[0m \u001b[1;31m# Perform the lemmatization\u001b[0m\u001b[1;33m\u001b[0m\u001b[1;33m\u001b[0m\u001b[1;33m\u001b[0m\u001b[0m\n\u001b[1;32m---> 18\u001b[1;33m \u001b[0mdf\u001b[0m\u001b[1;33m[\u001b[0m\u001b[1;34m\"Text\"\u001b[0m\u001b[1;33m]\u001b[0m \u001b[1;33m=\u001b[0m \u001b[0mdf\u001b[0m\u001b[1;33m[\u001b[0m\u001b[1;34m\"Text\"\u001b[0m\u001b[1;33m]\u001b[0m\u001b[1;33m.\u001b[0m\u001b[0mapply\u001b[0m\u001b[1;33m(\u001b[0m\u001b[1;32mlambda\u001b[0m \u001b[0mx\u001b[0m\u001b[1;33m:\u001b[0m \u001b[1;33m[\u001b[0m\u001b[0mget_lemma\u001b[0m\u001b[1;33m(\u001b[0m\u001b[0mword\u001b[0m\u001b[1;33m)\u001b[0m \u001b[1;32mfor\u001b[0m \u001b[0mword\u001b[0m \u001b[1;32min\u001b[0m \u001b[0mx\u001b[0m\u001b[1;33m]\u001b[0m\u001b[1;33m)\u001b[0m\u001b[1;33m\u001b[0m\u001b[1;33m\u001b[0m\u001b[0m\n\u001b[0m",
      "\u001b[1;32m<ipython-input-15-df2b88eec972>\u001b[0m in \u001b[0;36mget_lemma\u001b[1;34m(word)\u001b[0m\n\u001b[0;32m     10\u001b[0m \u001b[1;31m# function to lemmatize a sentence\u001b[0m\u001b[1;33m\u001b[0m\u001b[1;33m\u001b[0m\u001b[1;33m\u001b[0m\u001b[0m\n\u001b[0;32m     11\u001b[0m \u001b[1;32mdef\u001b[0m \u001b[0mget_lemma\u001b[0m\u001b[1;33m(\u001b[0m\u001b[0mword\u001b[0m\u001b[1;33m)\u001b[0m\u001b[1;33m:\u001b[0m\u001b[1;33m\u001b[0m\u001b[1;33m\u001b[0m\u001b[0m\n\u001b[1;32m---> 12\u001b[1;33m     \u001b[0mtag\u001b[0m \u001b[1;33m=\u001b[0m \u001b[0mpos_tag\u001b[0m\u001b[1;33m(\u001b[0m\u001b[1;33m[\u001b[0m\u001b[0mword\u001b[0m\u001b[1;33m]\u001b[0m\u001b[1;33m)\u001b[0m\u001b[1;33m[\u001b[0m\u001b[1;36m0\u001b[0m\u001b[1;33m]\u001b[0m\u001b[1;33m[\u001b[0m\u001b[1;36m1\u001b[0m\u001b[1;33m]\u001b[0m\u001b[1;33m[\u001b[0m\u001b[1;36m0\u001b[0m\u001b[1;33m]\u001b[0m\u001b[1;33m\u001b[0m\u001b[1;33m\u001b[0m\u001b[0m\n\u001b[0m\u001b[0;32m     13\u001b[0m     \u001b[0mtag\u001b[0m \u001b[1;33m=\u001b[0m \u001b[0mtag_dict\u001b[0m\u001b[1;33m[\u001b[0m\u001b[0mtag\u001b[0m\u001b[1;33m]\u001b[0m\u001b[1;33m\u001b[0m\u001b[1;33m\u001b[0m\u001b[0m\n\u001b[0;32m     14\u001b[0m \u001b[1;33m\u001b[0m\u001b[0m\n",
      "\u001b[1;32mC:\\Program Files\\Anaconda3\\lib\\site-packages\\nltk\\tag\\__init__.py\u001b[0m in \u001b[0;36mpos_tag\u001b[1;34m(tokens, tagset, lang)\u001b[0m\n\u001b[0;32m    159\u001b[0m     \u001b[1;33m:\u001b[0m\u001b[0mrtype\u001b[0m\u001b[1;33m:\u001b[0m \u001b[0mlist\u001b[0m\u001b[1;33m(\u001b[0m\u001b[0mtuple\u001b[0m\u001b[1;33m(\u001b[0m\u001b[0mstr\u001b[0m\u001b[1;33m,\u001b[0m \u001b[0mstr\u001b[0m\u001b[1;33m)\u001b[0m\u001b[1;33m)\u001b[0m\u001b[1;33m\u001b[0m\u001b[1;33m\u001b[0m\u001b[0m\n\u001b[0;32m    160\u001b[0m     \"\"\"\n\u001b[1;32m--> 161\u001b[1;33m     \u001b[0mtagger\u001b[0m \u001b[1;33m=\u001b[0m \u001b[0m_get_tagger\u001b[0m\u001b[1;33m(\u001b[0m\u001b[0mlang\u001b[0m\u001b[1;33m)\u001b[0m\u001b[1;33m\u001b[0m\u001b[1;33m\u001b[0m\u001b[0m\n\u001b[0m\u001b[0;32m    162\u001b[0m     \u001b[1;32mreturn\u001b[0m \u001b[0m_pos_tag\u001b[0m\u001b[1;33m(\u001b[0m\u001b[0mtokens\u001b[0m\u001b[1;33m,\u001b[0m \u001b[0mtagset\u001b[0m\u001b[1;33m,\u001b[0m \u001b[0mtagger\u001b[0m\u001b[1;33m,\u001b[0m \u001b[0mlang\u001b[0m\u001b[1;33m)\u001b[0m\u001b[1;33m\u001b[0m\u001b[1;33m\u001b[0m\u001b[0m\n\u001b[0;32m    163\u001b[0m \u001b[1;33m\u001b[0m\u001b[0m\n",
      "\u001b[1;32mC:\\Program Files\\Anaconda3\\lib\\site-packages\\nltk\\tag\\__init__.py\u001b[0m in \u001b[0;36m_get_tagger\u001b[1;34m(lang)\u001b[0m\n\u001b[0;32m    105\u001b[0m         \u001b[0mtagger\u001b[0m\u001b[1;33m.\u001b[0m\u001b[0mload\u001b[0m\u001b[1;33m(\u001b[0m\u001b[0map_russian_model_loc\u001b[0m\u001b[1;33m)\u001b[0m\u001b[1;33m\u001b[0m\u001b[1;33m\u001b[0m\u001b[0m\n\u001b[0;32m    106\u001b[0m     \u001b[1;32melse\u001b[0m\u001b[1;33m:\u001b[0m\u001b[1;33m\u001b[0m\u001b[1;33m\u001b[0m\u001b[0m\n\u001b[1;32m--> 107\u001b[1;33m         \u001b[0mtagger\u001b[0m \u001b[1;33m=\u001b[0m \u001b[0mPerceptronTagger\u001b[0m\u001b[1;33m(\u001b[0m\u001b[1;33m)\u001b[0m\u001b[1;33m\u001b[0m\u001b[1;33m\u001b[0m\u001b[0m\n\u001b[0m\u001b[0;32m    108\u001b[0m     \u001b[1;32mreturn\u001b[0m \u001b[0mtagger\u001b[0m\u001b[1;33m\u001b[0m\u001b[1;33m\u001b[0m\u001b[0m\n\u001b[0;32m    109\u001b[0m \u001b[1;33m\u001b[0m\u001b[0m\n",
      "\u001b[1;32mC:\\Program Files\\Anaconda3\\lib\\site-packages\\nltk\\tag\\perceptron.py\u001b[0m in \u001b[0;36m__init__\u001b[1;34m(self, load)\u001b[0m\n\u001b[0;32m    142\u001b[0m         \u001b[1;32mif\u001b[0m \u001b[0mload\u001b[0m\u001b[1;33m:\u001b[0m\u001b[1;33m\u001b[0m\u001b[1;33m\u001b[0m\u001b[0m\n\u001b[0;32m    143\u001b[0m             AP_MODEL_LOC = 'file:' + str(\n\u001b[1;32m--> 144\u001b[1;33m                 \u001b[0mfind\u001b[0m\u001b[1;33m(\u001b[0m\u001b[1;34m'taggers/averaged_perceptron_tagger/'\u001b[0m \u001b[1;33m+\u001b[0m \u001b[0mPICKLE\u001b[0m\u001b[1;33m)\u001b[0m\u001b[1;33m\u001b[0m\u001b[1;33m\u001b[0m\u001b[0m\n\u001b[0m\u001b[0;32m    145\u001b[0m             )\n\u001b[0;32m    146\u001b[0m             \u001b[0mself\u001b[0m\u001b[1;33m.\u001b[0m\u001b[0mload\u001b[0m\u001b[1;33m(\u001b[0m\u001b[0mAP_MODEL_LOC\u001b[0m\u001b[1;33m)\u001b[0m\u001b[1;33m\u001b[0m\u001b[1;33m\u001b[0m\u001b[0m\n",
      "\u001b[1;32mC:\\Program Files\\Anaconda3\\lib\\site-packages\\nltk\\data.py\u001b[0m in \u001b[0;36mfind\u001b[1;34m(resource_name, paths)\u001b[0m\n\u001b[0;32m    638\u001b[0m     \u001b[1;32mfor\u001b[0m \u001b[0mpath_\u001b[0m \u001b[1;32min\u001b[0m \u001b[0mpaths\u001b[0m\u001b[1;33m:\u001b[0m\u001b[1;33m\u001b[0m\u001b[1;33m\u001b[0m\u001b[0m\n\u001b[0;32m    639\u001b[0m         \u001b[1;31m# Is the path item a zipfile?\u001b[0m\u001b[1;33m\u001b[0m\u001b[1;33m\u001b[0m\u001b[1;33m\u001b[0m\u001b[0m\n\u001b[1;32m--> 640\u001b[1;33m         \u001b[1;32mif\u001b[0m \u001b[0mpath_\u001b[0m \u001b[1;32mand\u001b[0m \u001b[1;33m(\u001b[0m\u001b[0mos\u001b[0m\u001b[1;33m.\u001b[0m\u001b[0mpath\u001b[0m\u001b[1;33m.\u001b[0m\u001b[0misfile\u001b[0m\u001b[1;33m(\u001b[0m\u001b[0mpath_\u001b[0m\u001b[1;33m)\u001b[0m \u001b[1;32mand\u001b[0m \u001b[0mpath_\u001b[0m\u001b[1;33m.\u001b[0m\u001b[0mendswith\u001b[0m\u001b[1;33m(\u001b[0m\u001b[1;34m'.zip'\u001b[0m\u001b[1;33m)\u001b[0m\u001b[1;33m)\u001b[0m\u001b[1;33m:\u001b[0m\u001b[1;33m\u001b[0m\u001b[1;33m\u001b[0m\u001b[0m\n\u001b[0m\u001b[0;32m    641\u001b[0m             \u001b[1;32mtry\u001b[0m\u001b[1;33m:\u001b[0m\u001b[1;33m\u001b[0m\u001b[1;33m\u001b[0m\u001b[0m\n\u001b[0;32m    642\u001b[0m                 \u001b[1;32mreturn\u001b[0m \u001b[0mZipFilePathPointer\u001b[0m\u001b[1;33m(\u001b[0m\u001b[0mpath_\u001b[0m\u001b[1;33m,\u001b[0m \u001b[0mresource_name\u001b[0m\u001b[1;33m)\u001b[0m\u001b[1;33m\u001b[0m\u001b[1;33m\u001b[0m\u001b[0m\n",
      "\u001b[1;32mC:\\Program Files\\Anaconda3\\lib\\genericpath.py\u001b[0m in \u001b[0;36misfile\u001b[1;34m(path)\u001b[0m\n\u001b[0;32m     28\u001b[0m     \u001b[1;34m\"\"\"Test whether a path is a regular file\"\"\"\u001b[0m\u001b[1;33m\u001b[0m\u001b[1;33m\u001b[0m\u001b[0m\n\u001b[0;32m     29\u001b[0m     \u001b[1;32mtry\u001b[0m\u001b[1;33m:\u001b[0m\u001b[1;33m\u001b[0m\u001b[1;33m\u001b[0m\u001b[0m\n\u001b[1;32m---> 30\u001b[1;33m         \u001b[0mst\u001b[0m \u001b[1;33m=\u001b[0m \u001b[0mos\u001b[0m\u001b[1;33m.\u001b[0m\u001b[0mstat\u001b[0m\u001b[1;33m(\u001b[0m\u001b[0mpath\u001b[0m\u001b[1;33m)\u001b[0m\u001b[1;33m\u001b[0m\u001b[1;33m\u001b[0m\u001b[0m\n\u001b[0m\u001b[0;32m     31\u001b[0m     \u001b[1;32mexcept\u001b[0m \u001b[0mOSError\u001b[0m\u001b[1;33m:\u001b[0m\u001b[1;33m\u001b[0m\u001b[1;33m\u001b[0m\u001b[0m\n\u001b[0;32m     32\u001b[0m         \u001b[1;32mreturn\u001b[0m \u001b[1;32mFalse\u001b[0m\u001b[1;33m\u001b[0m\u001b[1;33m\u001b[0m\u001b[0m\n",
      "\u001b[1;31mKeyboardInterrupt\u001b[0m: "
     ]
    }
   ],
   "source": [
    "# Object to lemmatize words \n",
    "lemma = WordNetLemmatizer()\n",
    "\n",
    "# Dictionary to convert between part-of-speech tags and the ones the lemmatizer understands\n",
    "tag_dict = defaultdict(lambda : wordnet.NOUN)\n",
    "tag_dict['J'] = wordnet.ADJ\n",
    "tag_dict['V'] = wordnet.VERB\n",
    "tag_dict['R'] = wordnet.ADV\n",
    "\n",
    "# function to lemmatize a sentence\n",
    "def get_lemma(word):\n",
    "    tag = pos_tag([word])[0][1][0]\n",
    "    tag = tag_dict[tag]\n",
    "    \n",
    "    return lemma.lemmatize(word, tag)\n",
    "\n",
    "# Perform the lemmatization\n",
    "df[\"Text\"] = df[\"Text\"].apply(lambda x: [get_lemma(word) for word in x])"
   ]
  },
  {
   "cell_type": "code",
   "execution_count": 16,
   "metadata": {},
   "outputs": [
    {
     "ename": "NameError",
     "evalue": "name 'text' is not defined",
     "output_type": "error",
     "traceback": [
      "\u001b[1;31m---------------------------------------------------------------------------\u001b[0m",
      "\u001b[1;31mNameError\u001b[0m                                 Traceback (most recent call last)",
      "\u001b[1;32m<ipython-input-16-358850ba0207>\u001b[0m in \u001b[0;36m<module>\u001b[1;34m\u001b[0m\n\u001b[0;32m      8\u001b[0m \u001b[1;33m\u001b[0m\u001b[0m\n\u001b[0;32m      9\u001b[0m \u001b[1;31m# Perform the lemmatization\u001b[0m\u001b[1;33m\u001b[0m\u001b[1;33m\u001b[0m\u001b[1;33m\u001b[0m\u001b[0m\n\u001b[1;32m---> 10\u001b[1;33m \u001b[0mdf\u001b[0m\u001b[1;33m[\u001b[0m\u001b[1;34m\"Text\"\u001b[0m\u001b[1;33m]\u001b[0m \u001b[1;33m=\u001b[0m \u001b[0mdf\u001b[0m\u001b[1;33m[\u001b[0m\u001b[1;34m\"Text\"\u001b[0m\u001b[1;33m]\u001b[0m\u001b[1;33m.\u001b[0m\u001b[0mapply\u001b[0m\u001b[1;33m(\u001b[0m\u001b[1;32mlambda\u001b[0m \u001b[0mx\u001b[0m\u001b[1;33m:\u001b[0m \u001b[1;33m[\u001b[0m\u001b[0mlemmed\u001b[0m\u001b[1;33m(\u001b[0m\u001b[0mtext\u001b[0m\u001b[1;33m,\u001b[0m \u001b[0mcores\u001b[0m\u001b[1;33m=\u001b[0m\u001b[1;36m6\u001b[0m\u001b[1;33m)\u001b[0m \u001b[1;32mfor\u001b[0m \u001b[0mword\u001b[0m \u001b[1;32min\u001b[0m \u001b[0mx\u001b[0m\u001b[1;33m]\u001b[0m\u001b[1;33m)\u001b[0m\u001b[1;33m\u001b[0m\u001b[1;33m\u001b[0m\u001b[0m\n\u001b[0m",
      "\u001b[1;32mC:\\Program Files\\Anaconda3\\lib\\site-packages\\pandas\\core\\series.py\u001b[0m in \u001b[0;36mapply\u001b[1;34m(self, func, convert_dtype, args, **kwds)\u001b[0m\n\u001b[0;32m   3589\u001b[0m             \u001b[1;32melse\u001b[0m\u001b[1;33m:\u001b[0m\u001b[1;33m\u001b[0m\u001b[1;33m\u001b[0m\u001b[0m\n\u001b[0;32m   3590\u001b[0m                 \u001b[0mvalues\u001b[0m \u001b[1;33m=\u001b[0m \u001b[0mself\u001b[0m\u001b[1;33m.\u001b[0m\u001b[0mastype\u001b[0m\u001b[1;33m(\u001b[0m\u001b[0mobject\u001b[0m\u001b[1;33m)\u001b[0m\u001b[1;33m.\u001b[0m\u001b[0mvalues\u001b[0m\u001b[1;33m\u001b[0m\u001b[1;33m\u001b[0m\u001b[0m\n\u001b[1;32m-> 3591\u001b[1;33m                 \u001b[0mmapped\u001b[0m \u001b[1;33m=\u001b[0m \u001b[0mlib\u001b[0m\u001b[1;33m.\u001b[0m\u001b[0mmap_infer\u001b[0m\u001b[1;33m(\u001b[0m\u001b[0mvalues\u001b[0m\u001b[1;33m,\u001b[0m \u001b[0mf\u001b[0m\u001b[1;33m,\u001b[0m \u001b[0mconvert\u001b[0m\u001b[1;33m=\u001b[0m\u001b[0mconvert_dtype\u001b[0m\u001b[1;33m)\u001b[0m\u001b[1;33m\u001b[0m\u001b[1;33m\u001b[0m\u001b[0m\n\u001b[0m\u001b[0;32m   3592\u001b[0m \u001b[1;33m\u001b[0m\u001b[0m\n\u001b[0;32m   3593\u001b[0m         \u001b[1;32mif\u001b[0m \u001b[0mlen\u001b[0m\u001b[1;33m(\u001b[0m\u001b[0mmapped\u001b[0m\u001b[1;33m)\u001b[0m \u001b[1;32mand\u001b[0m \u001b[0misinstance\u001b[0m\u001b[1;33m(\u001b[0m\u001b[0mmapped\u001b[0m\u001b[1;33m[\u001b[0m\u001b[1;36m0\u001b[0m\u001b[1;33m]\u001b[0m\u001b[1;33m,\u001b[0m \u001b[0mSeries\u001b[0m\u001b[1;33m)\u001b[0m\u001b[1;33m:\u001b[0m\u001b[1;33m\u001b[0m\u001b[1;33m\u001b[0m\u001b[0m\n",
      "\u001b[1;32mpandas/_libs/lib.pyx\u001b[0m in \u001b[0;36mpandas._libs.lib.map_infer\u001b[1;34m()\u001b[0m\n",
      "\u001b[1;32m<ipython-input-16-358850ba0207>\u001b[0m in \u001b[0;36m<lambda>\u001b[1;34m(x)\u001b[0m\n\u001b[0;32m      8\u001b[0m \u001b[1;33m\u001b[0m\u001b[0m\n\u001b[0;32m      9\u001b[0m \u001b[1;31m# Perform the lemmatization\u001b[0m\u001b[1;33m\u001b[0m\u001b[1;33m\u001b[0m\u001b[1;33m\u001b[0m\u001b[0m\n\u001b[1;32m---> 10\u001b[1;33m \u001b[0mdf\u001b[0m\u001b[1;33m[\u001b[0m\u001b[1;34m\"Text\"\u001b[0m\u001b[1;33m]\u001b[0m \u001b[1;33m=\u001b[0m \u001b[0mdf\u001b[0m\u001b[1;33m[\u001b[0m\u001b[1;34m\"Text\"\u001b[0m\u001b[1;33m]\u001b[0m\u001b[1;33m.\u001b[0m\u001b[0mapply\u001b[0m\u001b[1;33m(\u001b[0m\u001b[1;32mlambda\u001b[0m \u001b[0mx\u001b[0m\u001b[1;33m:\u001b[0m \u001b[1;33m[\u001b[0m\u001b[0mlemmed\u001b[0m\u001b[1;33m(\u001b[0m\u001b[0mtext\u001b[0m\u001b[1;33m,\u001b[0m \u001b[0mcores\u001b[0m\u001b[1;33m=\u001b[0m\u001b[1;36m6\u001b[0m\u001b[1;33m)\u001b[0m \u001b[1;32mfor\u001b[0m \u001b[0mword\u001b[0m \u001b[1;32min\u001b[0m \u001b[0mx\u001b[0m\u001b[1;33m]\u001b[0m\u001b[1;33m)\u001b[0m\u001b[1;33m\u001b[0m\u001b[1;33m\u001b[0m\u001b[0m\n\u001b[0m",
      "\u001b[1;32m<ipython-input-16-358850ba0207>\u001b[0m in \u001b[0;36m<listcomp>\u001b[1;34m(.0)\u001b[0m\n\u001b[0;32m      8\u001b[0m \u001b[1;33m\u001b[0m\u001b[0m\n\u001b[0;32m      9\u001b[0m \u001b[1;31m# Perform the lemmatization\u001b[0m\u001b[1;33m\u001b[0m\u001b[1;33m\u001b[0m\u001b[1;33m\u001b[0m\u001b[0m\n\u001b[1;32m---> 10\u001b[1;33m \u001b[0mdf\u001b[0m\u001b[1;33m[\u001b[0m\u001b[1;34m\"Text\"\u001b[0m\u001b[1;33m]\u001b[0m \u001b[1;33m=\u001b[0m \u001b[0mdf\u001b[0m\u001b[1;33m[\u001b[0m\u001b[1;34m\"Text\"\u001b[0m\u001b[1;33m]\u001b[0m\u001b[1;33m.\u001b[0m\u001b[0mapply\u001b[0m\u001b[1;33m(\u001b[0m\u001b[1;32mlambda\u001b[0m \u001b[0mx\u001b[0m\u001b[1;33m:\u001b[0m \u001b[1;33m[\u001b[0m\u001b[0mlemmed\u001b[0m\u001b[1;33m(\u001b[0m\u001b[0mtext\u001b[0m\u001b[1;33m,\u001b[0m \u001b[0mcores\u001b[0m\u001b[1;33m=\u001b[0m\u001b[1;36m6\u001b[0m\u001b[1;33m)\u001b[0m \u001b[1;32mfor\u001b[0m \u001b[0mword\u001b[0m \u001b[1;32min\u001b[0m \u001b[0mx\u001b[0m\u001b[1;33m]\u001b[0m\u001b[1;33m)\u001b[0m\u001b[1;33m\u001b[0m\u001b[1;33m\u001b[0m\u001b[0m\n\u001b[0m",
      "\u001b[1;31mNameError\u001b[0m: name 'text' is not defined"
     ]
    }
   ],
   "source": [
    "from multiprocessing import Pool\n",
    "\n",
    "def lemmed(text, cores=6): # tweak cores as needed\n",
    "    with Pool(processes=cores) as pool:\n",
    "        wnl = WordNetLemmatizer()\n",
    "        result = pool.map(wnl.lemmatize, text)\n",
    "    return result\n",
    "\n",
    "# Perform the lemmatization\n",
    "df[\"Text\"] = df[\"Text\"].apply(lambda x: [lemmed(text, cores=6) for word in x])"
   ]
  },
  {
   "cell_type": "code",
   "execution_count": null,
   "metadata": {},
   "outputs": [],
   "source": [
    "# Join the lists of words back into strings\n",
    "df[\"Text\"] = df[\"Text\"].apply(lambda x: \" \".join(x))"
   ]
  },
  {
   "cell_type": "code",
   "execution_count": null,
   "metadata": {},
   "outputs": [],
   "source": [
    "df[\"Text\"].iloc[2082]"
   ]
  },
  {
   "cell_type": "markdown",
   "metadata": {},
   "source": [
    "# Data Exploration\n",
    "Possible exploration of specific word within the data"
   ]
  },
  {
   "cell_type": "code",
   "execution_count": null,
   "metadata": {},
   "outputs": [],
   "source": [
    "search_term = input(\"word: \")\n",
    "df[df[\"Text\"].str.contains(search_term)][\"Text\"].count()"
   ]
  },
  {
   "cell_type": "markdown",
   "metadata": {},
   "source": [
    "# Modelling\n",
    "Creating multiple models to visualise and analyse various aspect of the data."
   ]
  },
  {
   "cell_type": "markdown",
   "metadata": {},
   "source": [
    "## Bag of Word Model"
   ]
  },
  {
   "cell_type": "markdown",
   "metadata": {},
   "source": [
    "### Create a document-term matrix"
   ]
  },
  {
   "cell_type": "code",
   "execution_count": null,
   "metadata": {},
   "outputs": [],
   "source": [
    "# Create an object that converts strings into a sparse matrix\n",
    "vectorizer = CountVectorizer(max_features= 10000 , min_df=0.01, ngram_range= (1,1))\n",
    "# Convert the text column to a sparse matrix\n",
    "df_dtm = vectorizer.fit_transform(df[\"Text\"])"
   ]
  },
  {
   "cell_type": "markdown",
   "metadata": {},
   "source": [
    "### Creation of a dataframe with terms and their frequencies"
   ]
  },
  {
   "cell_type": "code",
   "execution_count": null,
   "metadata": {},
   "outputs": [],
   "source": [
    "# Get the frequency of each term\n",
    "term_frequencies = df_dtm.sum(axis=0)\n",
    "# Match frequencies to terms\n",
    "frequent_terms = [(word, term_frequencies[0, id]) for word, id in vectorizer.vocabulary_.items()]\n",
    "# Convert the word-frequency pairings to a dataframe\n",
    "term_df = pd.DataFrame(columns=[\"term\", \"frequency\"], data=frequent_terms)\n",
    "# Sort the dataframe\n",
    "term_df.sort_values(by=\"frequency\", ascending=False, inplace=True)"
   ]
  },
  {
   "cell_type": "markdown",
   "metadata": {},
   "source": [
    "## Bag of Word Visualisation - Barplot"
   ]
  },
  {
   "cell_type": "code",
   "execution_count": null,
   "metadata": {},
   "outputs": [],
   "source": [
    "fig = px.bar(term_df.head(20), x=\"frequency\", y=\"term\", title='The 20 most Commmon terms', orientation='h', \n",
    "             width=700, height=700, color=\"term\")\n",
    "fig.show()"
   ]
  },
  {
   "cell_type": "markdown",
   "metadata": {},
   "source": [
    "## Visualisation - Wordcloud of the most frequent terms"
   ]
  },
  {
   "cell_type": "code",
   "execution_count": null,
   "metadata": {},
   "outputs": [],
   "source": [
    "# Creating a dictionary of the most frequent terms (required for word clouds)\n",
    "term_dict = term_df.set_index('term')['frequency'].to_dict()\n",
    "# Create a wordcloud of most frequent terms\n",
    "wc = WordCloud(width=800, height=300, background_color=\"black\", max_words=75)\n",
    "wc.generate_from_frequencies(term_dict)\n",
    "# Display the cloud\n",
    "plt.figure(figsize=(20, 10))\n",
    "plt.imshow(wc, interpolation=\"kaiser\")\n",
    "plt.axis(\"off\")\n",
    "plt.show()"
   ]
  },
  {
   "cell_type": "markdown",
   "metadata": {},
   "source": [
    "## Visualisation of the most 30 positive and most negative terms"
   ]
  },
  {
   "cell_type": "code",
   "execution_count": null,
   "metadata": {},
   "outputs": [],
   "source": [
    "# Assign sentiment to each term\n",
    "term_df[\"sentiment\"] = term_df[\"term\"].apply(lambda x: TextBlob(x).sentiment.polarity)"
   ]
  },
  {
   "cell_type": "code",
   "execution_count": null,
   "metadata": {},
   "outputs": [],
   "source": [
    "# Creating a dataframe capturing the 30 worst feedback from customers\n",
    "top_30_negative = term_df.sort_values(by=\"sentiment\", ascending=True)[[\"term\", \"frequency\", \"sentiment\"]].head(30)\n",
    "# plot\n",
    "fig = px.treemap(top_30_negative, path=['term'], values='frequency',title='Most Common Negative Terms')\n",
    "fig.show()"
   ]
  },
  {
   "cell_type": "code",
   "execution_count": null,
   "metadata": {},
   "outputs": [],
   "source": [
    "# Creating a dataframe capturing the 30 best feedback from customers\n",
    "top_30_positive = term_df.sort_values(by=\"sentiment\", ascending=False)[[\"term\", \"frequency\", \"sentiment\"]].head(30)\n",
    "# plot\n",
    "fig = px.treemap(top_30_positive, path=['term'], values='frequency',title='Most Common Positive Terms')\n",
    "fig.show()"
   ]
  },
  {
   "cell_type": "code",
   "execution_count": null,
   "metadata": {},
   "outputs": [],
   "source": [
    "# Create a dictionary of most frequent terms ((required for word clouds)\n",
    "top_30_negative_dict = top_30_negative.set_index('term')['sentiment'].to_dict()\n",
    "# Create a wordcloud of most frequent terms\n",
    "wc_N = WordCloud(width=800, height=300, background_color=\"white\",max_words=75)\n",
    "wc_N.generate_from_frequencies(top_30_negative_dict)\n",
    "# Display the cloud\n",
    "plt.figure(figsize=(20, 10))\n",
    "plt.imshow(wc_N, interpolation=\"bilinear\")\n",
    "plt.axis(\"off\")\n",
    "plt.show()"
   ]
  },
  {
   "cell_type": "code",
   "execution_count": null,
   "metadata": {},
   "outputs": [],
   "source": [
    "# Create a dictionary of most frequent terms ((required for word clouds)\n",
    "top_30_positive_dict = top_30_positive.set_index('term')['sentiment'].to_dict()\n",
    "# Create a wordcloud of most frequent terms\n",
    "wc_P = WordCloud(width=800, height=300, background_color=\"white\",max_words=75)\n",
    "wc_P.generate_from_frequencies(top_30_positive_dict)\n",
    "# Display the cloud\n",
    "plt.figure(figsize=(20, 10))\n",
    "plt.imshow(wc_P, interpolation=\"bilinear\")\n",
    "plt.axis(\"off\")\n",
    "plt.show()"
   ]
  },
  {
   "cell_type": "markdown",
   "metadata": {},
   "source": [
    "## Sentiment Analysis model\n",
    "\n",
    "Investigation of the sentiments of the comment in \"Text\", using the library textblob."
   ]
  },
  {
   "cell_type": "code",
   "execution_count": null,
   "metadata": {},
   "outputs": [],
   "source": [
    "# Assign sentiment to each comment\n",
    "df[\"sentiment\"] = df[\"Text\"].apply(lambda x: TextBlob(x).sentiment.polarity)"
   ]
  },
  {
   "cell_type": "code",
   "execution_count": null,
   "metadata": {},
   "outputs": [],
   "source": [
    "# Print visualisations from cufflinks library offline\n",
    "cf.go_offline()\n",
    "\n",
    "# Plot an interactive distribution plot of sentiment scores in plotly\n",
    "df['sentiment'].iplot(\n",
    "    kind='hist',\n",
    "    bins=50,\n",
    "    xTitle='polarity',\n",
    "    theme = 'pearl',\n",
    "    colorscale = 'plotly',\n",
    "    linecolor='black',\n",
    "    yTitle='count',\n",
    "    title='Sentiment Polarity Distribution')"
   ]
  },
  {
   "cell_type": "markdown",
   "metadata": {},
   "source": [
    "## Text Classification model\n",
    "\n",
    "Building a machine learning model to predict the sentiment of the feedback from the customers"
   ]
  },
  {
   "cell_type": "code",
   "execution_count": null,
   "metadata": {},
   "outputs": [],
   "source": [
    "# Creating a new column to categorises sentiment\n",
    "df['sentiment_category'] = np.where(df['sentiment'] > 0.125, 'Positive', \n",
    "                                          np.where(df['sentiment'] < -0.025, \"Negative\", 'Neutral'))"
   ]
  },
  {
   "cell_type": "code",
   "execution_count": null,
   "metadata": {},
   "outputs": [],
   "source": [
    "# Creating an Histogram to view the frequency of each sentiments\n",
    "fig = px.histogram(df, x=\"sentiment_category\",color=\"sentiment_category\")\n",
    "fig.update_layout(\n",
    "    title_text='Sentiment of Comments', # title of plot\n",
    "    xaxis_title_text='Sentiment', # xaxis label\n",
    "    yaxis_title_text='Count', # yaxis label\n",
    "    bargap=0.2, \n",
    "    bargroupgap=0.1\n",
    ")\n",
    "fig.show()"
   ]
  },
  {
   "cell_type": "code",
   "execution_count": null,
   "metadata": {},
   "outputs": [],
   "source": [
    "# Dropping the 'sentiments' column as it is now redundant to use.\n",
    "df.drop('sentiment', axis=1, inplace=  True)\n",
    "df.head(1)"
   ]
  },
  {
   "cell_type": "code",
   "execution_count": null,
   "metadata": {},
   "outputs": [],
   "source": [
    "# Using the bag-of-words model.\n",
    "vector = CountVectorizer(max_features= 10000 , min_df=0.01, ngram_range= (1,1))"
   ]
  },
  {
   "cell_type": "markdown",
   "metadata": {},
   "source": [
    "## Train Test Split model"
   ]
  },
  {
   "cell_type": "code",
   "execution_count": null,
   "metadata": {},
   "outputs": [],
   "source": [
    "# train_test_split function\n",
    "x_train, x_test, y_train, y_test = train_test_split(df['Text'], df['sentiment_category'],  \n",
    "                                                   test_size = 0.3, random_state = 123)"
   ]
  },
  {
   "cell_type": "code",
   "execution_count": null,
   "metadata": {},
   "outputs": [],
   "source": [
    "# Checking the split\n",
    "print(x_train.shape, x_test.shape)\n",
    "print(y_train.shape, y_test.shape)"
   ]
  },
  {
   "cell_type": "code",
   "execution_count": null,
   "metadata": {},
   "outputs": [],
   "source": [
    "# Applying the bag of words model to the entire text using the fit function\n",
    "vector.fit(df['Text'])"
   ]
  },
  {
   "cell_type": "code",
   "execution_count": null,
   "metadata": {},
   "outputs": [],
   "source": [
    "# Feature transformation to both x_train, and x_test\n",
    "x_train_bow = vector.transform(x_train)\n",
    "x_test_bow = vector.transform(x_test)"
   ]
  },
  {
   "cell_type": "code",
   "execution_count": null,
   "metadata": {},
   "outputs": [],
   "source": [
    "# Checking the number of features \n",
    "print(x_train_bow.shape, x_test_bow.shape)"
   ]
  },
  {
   "cell_type": "markdown",
   "metadata": {},
   "source": [
    "## Machine learning algorithms\n",
    "\n",
    "I will compare a Naive Bayes model and a Decision Tree model and make a decision on the final model to use based on the accuracy result."
   ]
  },
  {
   "cell_type": "markdown",
   "metadata": {},
   "source": [
    "### Naive Bayes"
   ]
  },
  {
   "cell_type": "code",
   "execution_count": null,
   "metadata": {},
   "outputs": [],
   "source": [
    "# Creating a Multinomial Naive Bayes classifier\n",
    "nb = MultinomialNB()\n",
    "# Train the model using the training sets\n",
    "nb.fit(x_train_bow, y_train)\n",
    "# Predict Output\n",
    "predictions = nb.predict(x_test_bow)"
   ]
  },
  {
   "cell_type": "code",
   "execution_count": null,
   "metadata": {},
   "outputs": [],
   "source": [
    "# Print the accuracy score\n",
    "accuracy_score(y_test, predictions)"
   ]
  },
  {
   "cell_type": "markdown",
   "metadata": {},
   "source": [
    "### Decision tree"
   ]
  },
  {
   "cell_type": "code",
   "execution_count": null,
   "metadata": {},
   "outputs": [],
   "source": [
    "# Create Decision Tree classifer object\n",
    "tree = DecisionTreeClassifier()\n",
    "# Train Decision Tree Classifer\n",
    "tree = tree.fit(x_train_bow, y_train)\n",
    "# Predict the response for test dataset\n",
    "predictions_tree = tree.predict(x_test_bow)"
   ]
  },
  {
   "cell_type": "code",
   "execution_count": null,
   "metadata": {},
   "outputs": [],
   "source": [
    "accuracy_score(y_test, predictions_tree)"
   ]
  },
  {
   "cell_type": "markdown",
   "metadata": {},
   "source": [
    "### Classification report\n",
    "\n",
    "Printing the classification report based on the Decision Tree model."
   ]
  },
  {
   "cell_type": "code",
   "execution_count": null,
   "metadata": {},
   "outputs": [],
   "source": [
    "# Decision Tree\n",
    "print(classification_report(y_test, predictions_tree))"
   ]
  },
  {
   "cell_type": "markdown",
   "metadata": {},
   "source": [
    "### Conclusion Text Classification.\n",
    "\n",
    "My prediction data label correctly Positive sentiments with 91% accuracy, label Negative sentiments correctly with an accuracy of 66% which needs improvement, and label Neutral sentiment correctly with an accuracy of 63%.\n",
    "\n",
    "Through recall, I can conclude that 90% positive sentiments were classified correctly, and 62% for the negative sentiments."
   ]
  },
  {
   "cell_type": "markdown",
   "metadata": {},
   "source": [
    "## Topic Analysis"
   ]
  },
  {
   "cell_type": "code",
   "execution_count": null,
   "metadata": {},
   "outputs": [],
   "source": [
    "# extract just the Text column as a list of lists\n",
    "df_topics = list(df[\"Text\"].apply(lambda x: x.split(\" \")))\n",
    "# Create a gensim dictionary of terms from the Text and map each word to an id\n",
    "topic_dict = corpora.Dictionary(df_topics)\n",
    "# Use the dictionary to generate a corpus from Text and convert the keywords into dictionary references\n",
    "topic_corpus = [topic_dict.doc2bow(text) for text in df_topics]"
   ]
  },
  {
   "cell_type": "code",
   "execution_count": null,
   "metadata": {},
   "outputs": [],
   "source": [
    "# I will identify 5 topics, at random\n",
    "topic_model = LdaModel(topic_corpus, num_topics=5, id2word=topic_dict, passes=15)"
   ]
  },
  {
   "cell_type": "code",
   "execution_count": null,
   "metadata": {},
   "outputs": [],
   "source": [
    "# Create the visualisation display \n",
    "lda_display = pyLDAvis.gensim.prepare(topic_model, topic_corpus, topic_dict, sort_topics=True)\n",
    "# Display the visualisation\n",
    "pyLDAvis.display(lda_display)"
   ]
  },
  {
   "cell_type": "markdown",
   "metadata": {},
   "source": [
    "### Conclusion of the Topic Analysis\n",
    "\n",
    "The above LDA display allows us to see the 30 most common terms per Topic, distributed, for this exercise in 5 different Topics, while indicating the most important Topic, represented by the bubble's sizes.\n",
    "\n",
    "Within each topic, I can see the frequency of a term overall and the frequency of that same term within a specific topic. I can also visualise in which Topic a term appears, and its frequency represented by the bubble's sizes.\n",
    "\n",
    "In term of importance of each topic over the entire corpus. Topic 1 is the most important Topic capturing 29.6% of the terms, followed by 2 with 24.1%, then 3 with 19.8%. Topic 4 captures 17.1% of the terms and, lastly, 5 captures 9.4%.\n",
    "\n",
    "Based on the words captured in each Topics, Topic 1 and 2 are capturing most of the positive terms. The remaining bubbles captures more neutral words which I could add to the stop_words and run the analyse again to check the new result."
   ]
  }
 ],
 "metadata": {
  "kernelspec": {
   "display_name": "Python 3",
   "language": "python",
   "name": "python3"
  },
  "language_info": {
   "codemirror_mode": {
    "name": "ipython",
    "version": 3
   },
   "file_extension": ".py",
   "mimetype": "text/x-python",
   "name": "python",
   "nbconvert_exporter": "python",
   "pygments_lexer": "ipython3",
   "version": "3.7.3"
  }
 },
 "nbformat": 4,
 "nbformat_minor": 2
}
