{
  "nbformat": 4,
  "nbformat_minor": 0,
  "metadata": {
    "kernelspec": {
      "language": "python",
      "display_name": "Python 3",
      "name": "python3"
    },
    "language_info": {
      "pygments_lexer": "ipython3",
      "nbconvert_exporter": "python",
      "version": "3.6.4",
      "file_extension": ".py",
      "codemirror_mode": {
        "name": "ipython",
        "version": 3
      },
      "name": "python",
      "mimetype": "text/x-python"
    },
    "colab": {
      "name": "Geospatial Analysis",
      "provenance": [],
      "include_colab_link": true
    }
  },
  "cells": [
    {
      "cell_type": "markdown",
      "metadata": {
        "id": "view-in-github",
        "colab_type": "text"
      },
      "source": [
        "<a href=\"https://colab.research.google.com/github/FlorentAndre/Florent_repository/blob/master/Geospatial_Analysis.ipynb\" target=\"_parent\"><img src=\"https://colab.research.google.com/assets/colab-badge.svg\" alt=\"Open In Colab\"/></a>"
      ]
    },
    {
      "cell_type": "markdown",
      "metadata": {
        "id": "NXC1IzSdYBTr",
        "colab_type": "text"
      },
      "source": [
        "# Introduction\n",
        "\n",
        "I will demonstrate my knowledge in Geospatial analysis by investigating the demographics of various counties in the state of California, and determine potentially suitable locations in San Francisco for 2 new Starbucks Reserve Roastery. "
      ]
    },
    {
      "cell_type": "code",
      "metadata": {
        "id": "03uO4BJ7dJD8",
        "colab_type": "code",
        "colab": {
          "base_uri": "https://localhost:8080/",
          "height": 557
        },
        "outputId": "580d1c62-892f-4826-faa6-fcb15a42f751"
      },
      "source": [
        "pip install git+git://github.com/geopandas/geopandas.git"
      ],
      "execution_count": 2,
      "outputs": [
        {
          "output_type": "stream",
          "text": [
            "Collecting git+git://github.com/geopandas/geopandas.git\n",
            "  Cloning git://github.com/geopandas/geopandas.git to /tmp/pip-req-build-28xh_635\n",
            "  Running command git clone -q git://github.com/geopandas/geopandas.git /tmp/pip-req-build-28xh_635\n",
            "Requirement already satisfied: pandas>=0.24.0 in /usr/local/lib/python3.6/dist-packages (from geopandas==0.8.0+37.gd693267) (1.0.5)\n",
            "Requirement already satisfied: shapely>=1.6 in /usr/local/lib/python3.6/dist-packages (from geopandas==0.8.0+37.gd693267) (1.7.1)\n",
            "Collecting fiona>=1.8\n",
            "\u001b[?25l  Downloading https://files.pythonhosted.org/packages/36/8b/e8b2c11bed5373c8e98edb85ce891b09aa1f4210fd451d0fb3696b7695a2/Fiona-1.8.17-cp36-cp36m-manylinux1_x86_64.whl (14.8MB)\n",
            "\u001b[K     |████████████████████████████████| 14.8MB 306kB/s \n",
            "\u001b[?25hCollecting pyproj>=2.2.0\n",
            "\u001b[?25l  Downloading https://files.pythonhosted.org/packages/e5/c3/071e080230ac4b6c64f1a2e2f9161c9737a2bc7b683d2c90b024825000c0/pyproj-2.6.1.post1-cp36-cp36m-manylinux2010_x86_64.whl (10.9MB)\n",
            "\u001b[K     |████████████████████████████████| 10.9MB 40.0MB/s \n",
            "\u001b[?25hRequirement already satisfied: numpy>=1.13.3 in /usr/local/lib/python3.6/dist-packages (from pandas>=0.24.0->geopandas==0.8.0+37.gd693267) (1.18.5)\n",
            "Requirement already satisfied: pytz>=2017.2 in /usr/local/lib/python3.6/dist-packages (from pandas>=0.24.0->geopandas==0.8.0+37.gd693267) (2018.9)\n",
            "Requirement already satisfied: python-dateutil>=2.6.1 in /usr/local/lib/python3.6/dist-packages (from pandas>=0.24.0->geopandas==0.8.0+37.gd693267) (2.8.1)\n",
            "Collecting munch\n",
            "  Downloading https://files.pythonhosted.org/packages/cc/ab/85d8da5c9a45e072301beb37ad7f833cd344e04c817d97e0cc75681d248f/munch-2.5.0-py2.py3-none-any.whl\n",
            "Requirement already satisfied: click<8,>=4.0 in /usr/local/lib/python3.6/dist-packages (from fiona>=1.8->geopandas==0.8.0+37.gd693267) (7.1.2)\n",
            "Requirement already satisfied: attrs>=17 in /usr/local/lib/python3.6/dist-packages (from fiona>=1.8->geopandas==0.8.0+37.gd693267) (20.2.0)\n",
            "Requirement already satisfied: six>=1.7 in /usr/local/lib/python3.6/dist-packages (from fiona>=1.8->geopandas==0.8.0+37.gd693267) (1.15.0)\n",
            "Collecting click-plugins>=1.0\n",
            "  Downloading https://files.pythonhosted.org/packages/e9/da/824b92d9942f4e472702488857914bdd50f73021efea15b4cad9aca8ecef/click_plugins-1.1.1-py2.py3-none-any.whl\n",
            "Collecting cligj>=0.5\n",
            "  Downloading https://files.pythonhosted.org/packages/e4/be/30a58b4b0733850280d01f8bd132591b4668ed5c7046761098d665ac2174/cligj-0.5.0-py3-none-any.whl\n",
            "Building wheels for collected packages: geopandas\n",
            "  Building wheel for geopandas (setup.py) ... \u001b[?25l\u001b[?25hdone\n",
            "  Created wheel for geopandas: filename=geopandas-0.8.0+37.gd693267-py2.py3-none-any.whl size=963512 sha256=96250d0e8cd13929c49b541ca99239805f9426e9bead6167a83d882377ac592b\n",
            "  Stored in directory: /tmp/pip-ephem-wheel-cache-4ixeb1vc/wheels/91/24/71/376c9c67192694168352afcccc2d264248f7e2cc6192997186\n",
            "Successfully built geopandas\n",
            "Installing collected packages: munch, click-plugins, cligj, fiona, pyproj, geopandas\n",
            "Successfully installed click-plugins-1.1.1 cligj-0.5.0 fiona-1.8.17 geopandas-0.8.0+37.gd693267 munch-2.5.0 pyproj-2.6.1.post1\n"
          ],
          "name": "stdout"
        }
      ]
    },
    {
      "cell_type": "code",
      "metadata": {
        "id": "obLL_wzfYY7d",
        "colab_type": "code",
        "colab": {
          "base_uri": "https://localhost:8080/",
          "height": 349
        },
        "outputId": "d6aa4ae0-e8a9-4757-e515-5ec7328664ff"
      },
      "source": [
        "# Installing the necessary libraries\n",
        "! pip install folium\n",
        "! pip install shapely\n",
        "! pip install pygeos"
      ],
      "execution_count": 3,
      "outputs": [
        {
          "output_type": "stream",
          "text": [
            "Requirement already satisfied: folium in /usr/local/lib/python3.6/dist-packages (0.8.3)\n",
            "Requirement already satisfied: requests in /usr/local/lib/python3.6/dist-packages (from folium) (2.23.0)\n",
            "Requirement already satisfied: branca>=0.3.0 in /usr/local/lib/python3.6/dist-packages (from folium) (0.4.1)\n",
            "Requirement already satisfied: six in /usr/local/lib/python3.6/dist-packages (from folium) (1.15.0)\n",
            "Requirement already satisfied: numpy in /usr/local/lib/python3.6/dist-packages (from folium) (1.18.5)\n",
            "Requirement already satisfied: jinja2 in /usr/local/lib/python3.6/dist-packages (from folium) (2.11.2)\n",
            "Requirement already satisfied: idna<3,>=2.5 in /usr/local/lib/python3.6/dist-packages (from requests->folium) (2.10)\n",
            "Requirement already satisfied: urllib3!=1.25.0,!=1.25.1,<1.26,>=1.21.1 in /usr/local/lib/python3.6/dist-packages (from requests->folium) (1.24.3)\n",
            "Requirement already satisfied: chardet<4,>=3.0.2 in /usr/local/lib/python3.6/dist-packages (from requests->folium) (3.0.4)\n",
            "Requirement already satisfied: certifi>=2017.4.17 in /usr/local/lib/python3.6/dist-packages (from requests->folium) (2020.6.20)\n",
            "Requirement already satisfied: MarkupSafe>=0.23 in /usr/local/lib/python3.6/dist-packages (from jinja2->folium) (1.1.1)\n",
            "Requirement already satisfied: shapely in /usr/local/lib/python3.6/dist-packages (1.7.1)\n",
            "Collecting pygeos\n",
            "\u001b[?25l  Downloading https://files.pythonhosted.org/packages/66/06/2cfcf6e90814da1fdb4585534f03a36531f00cbad65f11b417337d69fe60/pygeos-0.8-cp36-cp36m-manylinux1_x86_64.whl (1.6MB)\n",
            "\u001b[K     |████████████████████████████████| 1.6MB 3.3MB/s \n",
            "\u001b[?25hRequirement already satisfied: numpy>=1.10 in /usr/local/lib/python3.6/dist-packages (from pygeos) (1.18.5)\n",
            "Installing collected packages: pygeos\n",
            "Successfully installed pygeos-0.8\n"
          ],
          "name": "stdout"
        }
      ]
    },
    {
      "cell_type": "code",
      "metadata": {
        "trusted": true,
        "id": "DqaJC8L-YBTs",
        "colab_type": "code",
        "colab": {
          "base_uri": "https://localhost:8080/",
          "height": 72
        },
        "outputId": "43ccda19-89aa-48f8-d400-416a682ff3e1"
      },
      "source": [
        "# Importing the necessary libraries\n",
        "import math\n",
        "import pygeos\n",
        "import pandas as pd\n",
        "import geopandas as gpd\n",
        "from geopandas.tools import geocode \n",
        "\n",
        "import folium \n",
        "from folium import Choropleth, Marker\n",
        "from folium.plugins import HeatMap, MarkerCluster\n",
        "\n",
        "from shapely.geometry import MultiPolygon\n",
        "from shapely.geometry import Point"
      ],
      "execution_count": 4,
      "outputs": [
        {
          "output_type": "stream",
          "text": [
            "/usr/local/lib/python3.6/dist-packages/geopandas/_compat.py:87: UserWarning: The Shapely GEOS version (3.8.0-CAPI-1.13.1 ) is incompatible with the GEOS version PyGEOS was compiled with (3.8.1-CAPI-1.13.3). Conversions between both will be slow.\n",
            "  shapely_geos_version, geos_capi_version_string\n"
          ],
          "name": "stderr"
        }
      ]
    },
    {
      "cell_type": "markdown",
      "metadata": {
        "id": "h9txfRZRYBTv",
        "colab_type": "text"
      },
      "source": [
        "Using `embed_map()` function to visualize my maps."
      ]
    },
    {
      "cell_type": "code",
      "metadata": {
        "trusted": true,
        "id": "TBsyp_xzYBTv",
        "colab_type": "code",
        "colab": {}
      },
      "source": [
        "def embed_map(m, file_name):\n",
        "    from IPython.display import IFrame\n",
        "    m.save(file_name)\n",
        "    return IFrame(file_name, width='100%', height='500px')"
      ],
      "execution_count": 5,
      "outputs": []
    },
    {
      "cell_type": "markdown",
      "metadata": {
        "id": "ZiqthLyZYBTz",
        "colab_type": "text"
      },
      "source": [
        "## 1) Geo-localisation\n",
        "I will create a dataframe `starbucks` containing Starbucks locations."
      ]
    },
    {
      "cell_type": "code",
      "metadata": {
        "id": "eeFMl0kNeLsk",
        "colab_type": "code",
        "colab": {
          "base_uri": "https://localhost:8080/",
          "height": 35
        },
        "outputId": "8f484951-8ee2-4108-f2db-499416f7837f"
      },
      "source": [
        "# Importing files from my Google Drive\n",
        "from google.colab import drive\n",
        "drive.mount('/content/drive')"
      ],
      "execution_count": 6,
      "outputs": [
        {
          "output_type": "stream",
          "text": [
            "Mounted at /content/drive\n"
          ],
          "name": "stdout"
        }
      ]
    },
    {
      "cell_type": "code",
      "metadata": {
        "id": "nKUtodc9epO6",
        "colab_type": "code",
        "colab": {
          "base_uri": "https://localhost:8080/",
          "height": 202
        },
        "outputId": "8823ef8b-a4d6-45d1-bdb5-efc1e2a8ed2c"
      },
      "source": [
        "# Importing the Starbucks CSV\n",
        "path_starbucks = \"/content/drive/My Drive/Open Source data for Starbucks Geo Analytics/starbucks_locations.csv\"\n",
        "starbucks = pd.read_csv(path_starbucks)\n",
        "# Dataset is now stored in a Pandas Dataframe\n",
        "starbucks.head()"
      ],
      "execution_count": 7,
      "outputs": [
        {
          "output_type": "execute_result",
          "data": {
            "text/html": [
              "<div>\n",
              "<style scoped>\n",
              "    .dataframe tbody tr th:only-of-type {\n",
              "        vertical-align: middle;\n",
              "    }\n",
              "\n",
              "    .dataframe tbody tr th {\n",
              "        vertical-align: top;\n",
              "    }\n",
              "\n",
              "    .dataframe thead th {\n",
              "        text-align: right;\n",
              "    }\n",
              "</style>\n",
              "<table border=\"1\" class=\"dataframe\">\n",
              "  <thead>\n",
              "    <tr style=\"text-align: right;\">\n",
              "      <th></th>\n",
              "      <th>Store Number</th>\n",
              "      <th>Store Name</th>\n",
              "      <th>Address</th>\n",
              "      <th>City</th>\n",
              "      <th>Longitude</th>\n",
              "      <th>Latitude</th>\n",
              "    </tr>\n",
              "  </thead>\n",
              "  <tbody>\n",
              "    <tr>\n",
              "      <th>0</th>\n",
              "      <td>10429-100710</td>\n",
              "      <td>Palmdale &amp; Hwy 395</td>\n",
              "      <td>14136 US Hwy 395 Adelanto CA</td>\n",
              "      <td>Adelanto</td>\n",
              "      <td>-117.40</td>\n",
              "      <td>34.51</td>\n",
              "    </tr>\n",
              "    <tr>\n",
              "      <th>1</th>\n",
              "      <td>635-352</td>\n",
              "      <td>Kanan &amp; Thousand Oaks</td>\n",
              "      <td>5827 Kanan Road Agoura CA</td>\n",
              "      <td>Agoura</td>\n",
              "      <td>-118.76</td>\n",
              "      <td>34.16</td>\n",
              "    </tr>\n",
              "    <tr>\n",
              "      <th>2</th>\n",
              "      <td>74510-27669</td>\n",
              "      <td>Vons-Agoura Hills #2001</td>\n",
              "      <td>5671 Kanan Rd. Agoura Hills CA</td>\n",
              "      <td>Agoura Hills</td>\n",
              "      <td>-118.76</td>\n",
              "      <td>34.15</td>\n",
              "    </tr>\n",
              "    <tr>\n",
              "      <th>3</th>\n",
              "      <td>29839-255026</td>\n",
              "      <td>Target Anaheim T-0677</td>\n",
              "      <td>8148 E SANTA ANA CANYON ROAD AHAHEIM CA</td>\n",
              "      <td>AHAHEIM</td>\n",
              "      <td>-117.75</td>\n",
              "      <td>33.87</td>\n",
              "    </tr>\n",
              "    <tr>\n",
              "      <th>4</th>\n",
              "      <td>23463-230284</td>\n",
              "      <td>Safeway - Alameda 3281</td>\n",
              "      <td>2600 5th Street Alameda CA</td>\n",
              "      <td>Alameda</td>\n",
              "      <td>-122.28</td>\n",
              "      <td>37.79</td>\n",
              "    </tr>\n",
              "  </tbody>\n",
              "</table>\n",
              "</div>"
            ],
            "text/plain": [
              "   Store Number               Store Name  ... Longitude Latitude\n",
              "0  10429-100710       Palmdale & Hwy 395  ...   -117.40    34.51\n",
              "1       635-352    Kanan & Thousand Oaks  ...   -118.76    34.16\n",
              "2   74510-27669  Vons-Agoura Hills #2001  ...   -118.76    34.15\n",
              "3  29839-255026    Target Anaheim T-0677  ...   -117.75    33.87\n",
              "4  23463-230284   Safeway - Alameda 3281  ...   -122.28    37.79\n",
              "\n",
              "[5 rows x 6 columns]"
            ]
          },
          "metadata": {
            "tags": []
          },
          "execution_count": 7
        }
      ]
    },
    {
      "cell_type": "markdown",
      "metadata": {
        "id": "vbSpr9xlYBT3",
        "colab_type": "text"
      },
      "source": [
        "I will now check for any missing values, specifically Longitude and Latitude"
      ]
    },
    {
      "cell_type": "code",
      "metadata": {
        "id": "RASA_NaVvYEh",
        "colab_type": "code",
        "colab": {
          "base_uri": "https://localhost:8080/",
          "height": 202
        },
        "outputId": "d26734de-48de-4339-facc-56ec606a9714"
      },
      "source": [
        "# Creating a funciton to call for any df null rows which will allow me to check if any data is missing from my dataframe\n",
        "def nans(df): return df[df.isnull().any(axis=1)]\n",
        "# creating a df tp call for null rows - I will use the df later on.\n",
        "rows_with_missing = nans(starbucks)\n",
        "rows_with_missing"
      ],
      "execution_count": 8,
      "outputs": [
        {
          "output_type": "execute_result",
          "data": {
            "text/html": [
              "<div>\n",
              "<style scoped>\n",
              "    .dataframe tbody tr th:only-of-type {\n",
              "        vertical-align: middle;\n",
              "    }\n",
              "\n",
              "    .dataframe tbody tr th {\n",
              "        vertical-align: top;\n",
              "    }\n",
              "\n",
              "    .dataframe thead th {\n",
              "        text-align: right;\n",
              "    }\n",
              "</style>\n",
              "<table border=\"1\" class=\"dataframe\">\n",
              "  <thead>\n",
              "    <tr style=\"text-align: right;\">\n",
              "      <th></th>\n",
              "      <th>Store Number</th>\n",
              "      <th>Store Name</th>\n",
              "      <th>Address</th>\n",
              "      <th>City</th>\n",
              "      <th>Longitude</th>\n",
              "      <th>Latitude</th>\n",
              "    </tr>\n",
              "  </thead>\n",
              "  <tbody>\n",
              "    <tr>\n",
              "      <th>153</th>\n",
              "      <td>5406-945</td>\n",
              "      <td>2224 Shattuck - Berkeley</td>\n",
              "      <td>2224 Shattuck Avenue Berkeley CA</td>\n",
              "      <td>Berkeley</td>\n",
              "      <td>NaN</td>\n",
              "      <td>NaN</td>\n",
              "    </tr>\n",
              "    <tr>\n",
              "      <th>154</th>\n",
              "      <td>570-512</td>\n",
              "      <td>Solano Ave</td>\n",
              "      <td>1799 Solano Avenue Berkeley CA</td>\n",
              "      <td>Berkeley</td>\n",
              "      <td>NaN</td>\n",
              "      <td>NaN</td>\n",
              "    </tr>\n",
              "    <tr>\n",
              "      <th>155</th>\n",
              "      <td>17877-164526</td>\n",
              "      <td>Safeway - Berkeley #691</td>\n",
              "      <td>1444 Shattuck Place Berkeley CA</td>\n",
              "      <td>Berkeley</td>\n",
              "      <td>NaN</td>\n",
              "      <td>NaN</td>\n",
              "    </tr>\n",
              "    <tr>\n",
              "      <th>156</th>\n",
              "      <td>19864-202264</td>\n",
              "      <td>Telegraph &amp; Ashby</td>\n",
              "      <td>3001 Telegraph Avenue Berkeley CA</td>\n",
              "      <td>Berkeley</td>\n",
              "      <td>NaN</td>\n",
              "      <td>NaN</td>\n",
              "    </tr>\n",
              "    <tr>\n",
              "      <th>157</th>\n",
              "      <td>9217-9253</td>\n",
              "      <td>2128 Oxford St.</td>\n",
              "      <td>2128 Oxford Street Berkeley CA</td>\n",
              "      <td>Berkeley</td>\n",
              "      <td>NaN</td>\n",
              "      <td>NaN</td>\n",
              "    </tr>\n",
              "  </tbody>\n",
              "</table>\n",
              "</div>"
            ],
            "text/plain": [
              "     Store Number                Store Name  ... Longitude Latitude\n",
              "153      5406-945  2224 Shattuck - Berkeley  ...       NaN      NaN\n",
              "154       570-512                Solano Ave  ...       NaN      NaN\n",
              "155  17877-164526   Safeway - Berkeley #691  ...       NaN      NaN\n",
              "156  19864-202264         Telegraph & Ashby  ...       NaN      NaN\n",
              "157     9217-9253           2128 Oxford St.  ...       NaN      NaN\n",
              "\n",
              "[5 rows x 6 columns]"
            ]
          },
          "metadata": {
            "tags": []
          },
          "execution_count": 8
        }
      ]
    },
    {
      "cell_type": "markdown",
      "metadata": {
        "id": "DJ7TH7c-wQMX",
        "colab_type": "text"
      },
      "source": [
        "### Conclusion on the missing rows.\n",
        " Only 5 rows have missing data and they are the Longitude and Latitue for the stores in Berkeley"
      ]
    },
    {
      "cell_type": "markdown",
      "metadata": {
        "id": "i3xnRmeRYBT5",
        "colab_type": "text"
      },
      "source": [
        "### Using Geocode\n",
        "\n",
        "I will create a funciton to to fill the missing values with the correct values from the OpenStreetMap Nominatim geocoder by using `geocode()`\n"
      ]
    },
    {
      "cell_type": "code",
      "metadata": {
        "id": "stfQbO_fyncE",
        "colab_type": "code",
        "colab": {
          "base_uri": "https://localhost:8080/",
          "height": 72
        },
        "outputId": "aa73b9c9-50aa-4625-d078-a1de02314eab"
      },
      "source": [
        "def my_geocoder(row):\n",
        "    try:\n",
        "        point = geocode(row, provider='nominatim').geometry.iloc[0]\n",
        "        return pd.Series({'Latitude': point.y, 'Longitude': point.x, 'geometry': point})\n",
        "    except:\n",
        "        return None\n",
        "\n",
        "berkeley_locations = rows_with_missing.apply(lambda x: my_geocoder(x['Address']), axis=1)\n",
        "starbucks.update(berkeley_locations)"
      ],
      "execution_count": 9,
      "outputs": [
        {
          "output_type": "stream",
          "text": [
            "/usr/local/lib/python3.6/dist-packages/geopy/geocoders/osm.py:143: UserWarning: Using Nominatim with the default \"geopy/1.17.0\" `user_agent` is strongly discouraged, as it violates Nominatim's ToS https://operations.osmfoundation.org/policies/nominatim/ and may possibly cause 403 and 429 HTTP errors. Please specify a custom `user_agent` with `Nominatim(user_agent=\"my-application\")` or by overriding the default `user_agent`: `geopy.geocoders.options.default_user_agent = \"my-application\"`. In geopy 2.0 this will become an exception.\n",
            "  UserWarning\n"
          ],
          "name": "stderr"
        }
      ]
    },
    {
      "cell_type": "markdown",
      "metadata": {
        "id": "7ULR6bSYYBT8",
        "colab_type": "text"
      },
      "source": [
        "### 2) View Berkeley locations.\n",
        "I will visualise the (latitude, longitude) locations in Berkeley in the OpenStreetMap style. "
      ]
    },
    {
      "cell_type": "code",
      "metadata": {
        "trusted": true,
        "id": "praL2ACQYBT8",
        "colab_type": "code",
        "colab": {
          "base_uri": "https://localhost:8080/",
          "height": 521
        },
        "outputId": "f4b26521-71c8-4068-cdce-bd77a21bfa63"
      },
      "source": [
        "# Create a base map\n",
        "m_2 = folium.Map(location=[37.88,-122.26], zoom_start=13)\n",
        "# Add a marker for each Berkeley location\n",
        "for idx, row in starbucks[starbucks[\"City\"]=='Berkeley'].iterrows():\n",
        "    Marker([row['Latitude'], row['Longitude']]).add_to(m_2)\n",
        "# Show the map\n",
        "embed_map(m_2, 'q_2.html')"
      ],
      "execution_count": 23,
      "outputs": [
        {
          "output_type": "execute_result",
          "data": {
            "text/html": [
              "\n",
              "        <iframe\n",
              "            width=\"100%\"\n",
              "            height=\"500px\"\n",
              "            src=\"q_2.html\"\n",
              "            frameborder=\"0\"\n",
              "            allowfullscreen\n",
              "        ></iframe>\n",
              "        "
            ],
            "text/plain": [
              "<IPython.lib.display.IFrame at 0x7f3c598ee748>"
            ]
          },
          "metadata": {
            "tags": []
          },
          "execution_count": 23
        }
      ]
    },
    {
      "cell_type": "markdown",
      "metadata": {
        "id": "Ss-4x455YBT_",
        "colab_type": "text"
      },
      "source": [
        "### 3) Consolidate my data.\n",
        "\n",
        "I will load a GeoDataFrame `CA_counties` containing the name, area (in square kilometers), and a unique id (in the \"GEOID\" column) for each county in the state of California.  The \"geometry\" column contains a polygon with county boundaries."
      ]
    },
    {
      "cell_type": "code",
      "metadata": {
        "trusted": true,
        "id": "VoRHJ0DmYBT_",
        "colab_type": "code",
        "colab": {
          "base_uri": "https://localhost:8080/",
          "height": 202
        },
        "outputId": "42da28df-0750-43c4-ba49-f639717d84ff"
      },
      "source": [
        "CA_counties = gpd.read_file(\"/content/drive/My Drive/Open Source data for Starbucks Geo Analytics/Shapefile/CA_county_boundaries.shp\")\n",
        "CA_counties.head()"
      ],
      "execution_count": 11,
      "outputs": [
        {
          "output_type": "execute_result",
          "data": {
            "text/html": [
              "<div>\n",
              "<style scoped>\n",
              "    .dataframe tbody tr th:only-of-type {\n",
              "        vertical-align: middle;\n",
              "    }\n",
              "\n",
              "    .dataframe tbody tr th {\n",
              "        vertical-align: top;\n",
              "    }\n",
              "\n",
              "    .dataframe thead th {\n",
              "        text-align: right;\n",
              "    }\n",
              "</style>\n",
              "<table border=\"1\" class=\"dataframe\">\n",
              "  <thead>\n",
              "    <tr style=\"text-align: right;\">\n",
              "      <th></th>\n",
              "      <th>GEOID</th>\n",
              "      <th>name</th>\n",
              "      <th>area_sqkm</th>\n",
              "      <th>geometry</th>\n",
              "    </tr>\n",
              "  </thead>\n",
              "  <tbody>\n",
              "    <tr>\n",
              "      <th>0</th>\n",
              "      <td>6091</td>\n",
              "      <td>Sierra County</td>\n",
              "      <td>2491.995494</td>\n",
              "      <td>POLYGON ((-120.65560 39.69357, -120.65554 39.6...</td>\n",
              "    </tr>\n",
              "    <tr>\n",
              "      <th>1</th>\n",
              "      <td>6067</td>\n",
              "      <td>Sacramento County</td>\n",
              "      <td>2575.258262</td>\n",
              "      <td>POLYGON ((-121.18858 38.71431, -121.18732 38.7...</td>\n",
              "    </tr>\n",
              "    <tr>\n",
              "      <th>2</th>\n",
              "      <td>6083</td>\n",
              "      <td>Santa Barbara County</td>\n",
              "      <td>9813.817958</td>\n",
              "      <td>MULTIPOLYGON (((-120.58191 34.09856, -120.5822...</td>\n",
              "    </tr>\n",
              "    <tr>\n",
              "      <th>3</th>\n",
              "      <td>6009</td>\n",
              "      <td>Calaveras County</td>\n",
              "      <td>2685.626726</td>\n",
              "      <td>POLYGON ((-120.63095 38.34111, -120.63058 38.3...</td>\n",
              "    </tr>\n",
              "    <tr>\n",
              "      <th>4</th>\n",
              "      <td>6111</td>\n",
              "      <td>Ventura County</td>\n",
              "      <td>5719.321379</td>\n",
              "      <td>MULTIPOLYGON (((-119.63631 33.27304, -119.6360...</td>\n",
              "    </tr>\n",
              "  </tbody>\n",
              "</table>\n",
              "</div>"
            ],
            "text/plain": [
              "   GEOID  ...                                           geometry\n",
              "0   6091  ...  POLYGON ((-120.65560 39.69357, -120.65554 39.6...\n",
              "1   6067  ...  POLYGON ((-121.18858 38.71431, -121.18732 38.7...\n",
              "2   6083  ...  MULTIPOLYGON (((-120.58191 34.09856, -120.5822...\n",
              "3   6009  ...  POLYGON ((-120.63095 38.34111, -120.63058 38.3...\n",
              "4   6111  ...  MULTIPOLYGON (((-119.63631 33.27304, -119.6360...\n",
              "\n",
              "[5 rows x 4 columns]"
            ]
          },
          "metadata": {
            "tags": []
          },
          "execution_count": 11
        }
      ]
    },
    {
      "cell_type": "markdown",
      "metadata": {
        "id": "XAV6cxQBYBUB",
        "colab_type": "text"
      },
      "source": [
        "Next, I will create three DataFrames:\n",
        "- `CA_pop` contains an estimate of the population of each county.\n",
        "- `CA_high_earners` contains the number of households with an income of at least $150,000 per year.\n",
        "- `CA_median_age` contains the median age for each county."
      ]
    },
    {
      "cell_type": "code",
      "metadata": {
        "trusted": true,
        "id": "CpzDbTENYBUC",
        "colab_type": "code",
        "colab": {}
      },
      "source": [
        "CA_pop = pd.read_csv(\"/content/drive/My Drive/Open Source data for Starbucks Geo Analytics/CA_county_population.csv\", index_col=\"GEOID\")\n",
        "CA_high_earners = pd.read_csv(\"/content/drive/My Drive/Open Source data for Starbucks Geo Analytics/CA_county_high_earners.csv\", index_col=\"GEOID\")\n",
        "CA_median_age = pd.read_csv(\"/content/drive/My Drive/Open Source data for Starbucks Geo Analytics/CA_county_median_age.csv\", index_col=\"GEOID\")"
      ],
      "execution_count": 12,
      "outputs": []
    },
    {
      "cell_type": "markdown",
      "metadata": {
        "id": "fCF1UvD5YBUE",
        "colab_type": "text"
      },
      "source": [
        "I will join `CA_counties` Geodataframe with `CA_pop`, `CA_high_earners`, and `CA_median_age` as a new Geodataframe called `CA_stats`. \n",
        "It should have 8 columns: and make sure it has 8 columns: \"GEOID\", \"name\", \"area_sqkm\", \"geometry\", \"population\", \"high_earners\", and \"median_age\".  I will also ensure it has a CRS set to `{'init': 'epsg:4326'}`."
      ]
    },
    {
      "cell_type": "code",
      "metadata": {
        "trusted": true,
        "id": "O06FCUebYBUE",
        "colab_type": "code",
        "colab": {}
      },
      "source": [
        "# Joining all the following dataset's solumn into \"cols_to_add\"\n",
        "cols_to_add = CA_pop.join([CA_high_earners, CA_median_age]).reset_index()\n",
        "# Merging \"cols_to_add\" and \"CA_stats\" on GEOID\n",
        "CA_stats = CA_counties.merge(cols_to_add, on=\"GEOID\")"
      ],
      "execution_count": 13,
      "outputs": []
    },
    {
      "cell_type": "markdown",
      "metadata": {
        "id": "t5NMGoXVYBUG",
        "colab_type": "text"
      },
      "source": [
        "Now that we have all of the data in one place, it's much easier to calculate statistics than using a combination of columns.  \n",
        "I will now create a \"density\" column with the population density."
      ]
    },
    {
      "cell_type": "code",
      "metadata": {
        "trusted": true,
        "id": "12QU5EJcYBUG",
        "colab_type": "code",
        "colab": {}
      },
      "source": [
        "CA_stats[\"density\"] = CA_stats[\"population\"] / CA_stats[\"area_sqkm\"]"
      ],
      "execution_count": 14,
      "outputs": []
    },
    {
      "cell_type": "markdown",
      "metadata": {
        "id": "XMMBWVj9YBUJ",
        "colab_type": "text"
      },
      "source": [
        "### 4) Which counties look promising?\n",
        "\n",
        "I will look at a particular counties that matches the stakeholders requirements:\n",
        "\n",
        "- there are at least 100,000 households making \\$150,000 per year,\n",
        "- the median age is less than 38.5, and\n",
        "- the density of inhabitants is at least 285 (per square kilometer).\n",
        "\n",
        "Additionally, selected counties should satisfy at least one of the following criteria:\n",
        "- there are at least 500,000 households making \\$150,000 per year,\n",
        "- the median age is less than 35.5, or\n",
        "- the density of inhabitants is at least 1400 (per square kilometer)."
      ]
    },
    {
      "cell_type": "code",
      "metadata": {
        "trusted": true,
        "id": "AwPlfgIEYBUJ",
        "colab_type": "code",
        "colab": {}
      },
      "source": [
        "# My code here\n",
        "sel_counties = CA_stats[((CA_stats.high_earners > 100000) &\n",
        "                         (CA_stats.median_age < 38.5) &\n",
        "                         (CA_stats.density > 285) &\n",
        "                         ((CA_stats.median_age < 35.5) |\n",
        "                         (CA_stats.density > 1400) |\n",
        "                         (CA_stats.high_earners > 500000)))]"
      ],
      "execution_count": 15,
      "outputs": []
    },
    {
      "cell_type": "markdown",
      "metadata": {
        "id": "pNpWWtdLYBUL",
        "colab_type": "text"
      },
      "source": [
        "### 5) How many stores are identified?\n",
        "\n",
        "When looking for the next Starbucks Reserve Roastery location, I'd like to consider all of the stores within the counties that I selected.  So, how many stores are within the selected counties?\n",
        "\n",
        "To prepare to answer this question, I will create a GeoDataFrame `starbucks_gdf` with all of the starbucks locations."
      ]
    },
    {
      "cell_type": "code",
      "metadata": {
        "trusted": true,
        "id": "rKgPE-8RYBUM",
        "colab_type": "code",
        "colab": {
          "base_uri": "https://localhost:8080/",
          "height": 257
        },
        "outputId": "b6bb7700-162f-48d4-f067-15d7bf01e126"
      },
      "source": [
        "starbucks_gdf = gpd.GeoDataFrame(starbucks, geometry=gpd.points_from_xy(starbucks.Longitude, starbucks.Latitude))\n",
        "starbucks_gdf.crs = {'init': 'epsg:4326'}\n",
        "starbucks_gdf.head()"
      ],
      "execution_count": 16,
      "outputs": [
        {
          "output_type": "stream",
          "text": [
            "/usr/local/lib/python3.6/dist-packages/pyproj/crs/crs.py:53: FutureWarning: '+init=<authority>:<code>' syntax is deprecated. '<authority>:<code>' is the preferred initialization method. When making the change, be mindful of axis order changes: https://pyproj4.github.io/pyproj/stable/gotchas.html#axis-order-changes-in-proj-6\n",
            "  return _prepare_from_string(\" \".join(pjargs))\n"
          ],
          "name": "stderr"
        },
        {
          "output_type": "execute_result",
          "data": {
            "text/html": [
              "<div>\n",
              "<style scoped>\n",
              "    .dataframe tbody tr th:only-of-type {\n",
              "        vertical-align: middle;\n",
              "    }\n",
              "\n",
              "    .dataframe tbody tr th {\n",
              "        vertical-align: top;\n",
              "    }\n",
              "\n",
              "    .dataframe thead th {\n",
              "        text-align: right;\n",
              "    }\n",
              "</style>\n",
              "<table border=\"1\" class=\"dataframe\">\n",
              "  <thead>\n",
              "    <tr style=\"text-align: right;\">\n",
              "      <th></th>\n",
              "      <th>Store Number</th>\n",
              "      <th>Store Name</th>\n",
              "      <th>Address</th>\n",
              "      <th>City</th>\n",
              "      <th>Longitude</th>\n",
              "      <th>Latitude</th>\n",
              "      <th>geometry</th>\n",
              "    </tr>\n",
              "  </thead>\n",
              "  <tbody>\n",
              "    <tr>\n",
              "      <th>0</th>\n",
              "      <td>10429-100710</td>\n",
              "      <td>Palmdale &amp; Hwy 395</td>\n",
              "      <td>14136 US Hwy 395 Adelanto CA</td>\n",
              "      <td>Adelanto</td>\n",
              "      <td>-117.40</td>\n",
              "      <td>34.51</td>\n",
              "      <td>POINT (-117.40000 34.51000)</td>\n",
              "    </tr>\n",
              "    <tr>\n",
              "      <th>1</th>\n",
              "      <td>635-352</td>\n",
              "      <td>Kanan &amp; Thousand Oaks</td>\n",
              "      <td>5827 Kanan Road Agoura CA</td>\n",
              "      <td>Agoura</td>\n",
              "      <td>-118.76</td>\n",
              "      <td>34.16</td>\n",
              "      <td>POINT (-118.76000 34.16000)</td>\n",
              "    </tr>\n",
              "    <tr>\n",
              "      <th>2</th>\n",
              "      <td>74510-27669</td>\n",
              "      <td>Vons-Agoura Hills #2001</td>\n",
              "      <td>5671 Kanan Rd. Agoura Hills CA</td>\n",
              "      <td>Agoura Hills</td>\n",
              "      <td>-118.76</td>\n",
              "      <td>34.15</td>\n",
              "      <td>POINT (-118.76000 34.15000)</td>\n",
              "    </tr>\n",
              "    <tr>\n",
              "      <th>3</th>\n",
              "      <td>29839-255026</td>\n",
              "      <td>Target Anaheim T-0677</td>\n",
              "      <td>8148 E SANTA ANA CANYON ROAD AHAHEIM CA</td>\n",
              "      <td>AHAHEIM</td>\n",
              "      <td>-117.75</td>\n",
              "      <td>33.87</td>\n",
              "      <td>POINT (-117.75000 33.87000)</td>\n",
              "    </tr>\n",
              "    <tr>\n",
              "      <th>4</th>\n",
              "      <td>23463-230284</td>\n",
              "      <td>Safeway - Alameda 3281</td>\n",
              "      <td>2600 5th Street Alameda CA</td>\n",
              "      <td>Alameda</td>\n",
              "      <td>-122.28</td>\n",
              "      <td>37.79</td>\n",
              "      <td>POINT (-122.28000 37.79000)</td>\n",
              "    </tr>\n",
              "  </tbody>\n",
              "</table>\n",
              "</div>"
            ],
            "text/plain": [
              "   Store Number               Store Name  ... Latitude                     geometry\n",
              "0  10429-100710       Palmdale & Hwy 395  ...    34.51  POINT (-117.40000 34.51000)\n",
              "1       635-352    Kanan & Thousand Oaks  ...    34.16  POINT (-118.76000 34.16000)\n",
              "2   74510-27669  Vons-Agoura Hills #2001  ...    34.15  POINT (-118.76000 34.15000)\n",
              "3  29839-255026    Target Anaheim T-0677  ...    33.87  POINT (-117.75000 33.87000)\n",
              "4  23463-230284   Safeway - Alameda 3281  ...    37.79  POINT (-122.28000 37.79000)\n",
              "\n",
              "[5 rows x 7 columns]"
            ]
          },
          "metadata": {
            "tags": []
          },
          "execution_count": 16
        }
      ]
    },
    {
      "cell_type": "markdown",
      "metadata": {
        "id": "IORP3PD5YBUO",
        "colab_type": "text"
      },
      "source": [
        "Finding out how many stores are in the counties selected?"
      ]
    },
    {
      "cell_type": "code",
      "metadata": {
        "trusted": true,
        "id": "5rUl4LnZYBUO",
        "colab_type": "code",
        "colab": {
          "base_uri": "https://localhost:8080/",
          "height": 176
        },
        "outputId": "e84000f7-20d4-4136-964c-df6882d878b5"
      },
      "source": [
        "# How many stores\n",
        "locations_of_interest = gpd.sjoin(starbucks_gdf, sel_counties)\n",
        "num_stores = len(locations_of_interest)\n",
        "print(\"There are\", num_stores, \"stores in the counties that matches the Stakeholders requirements\")"
      ],
      "execution_count": 17,
      "outputs": [
        {
          "output_type": "stream",
          "text": [
            "/usr/local/lib/python3.6/dist-packages/ipykernel_launcher.py:2: UserWarning: CRS mismatch between the CRS of left geometries and the CRS of right geometries.\n",
            "Use `to_crs()` to reproject one of the input geometries to match the CRS of the other.\n",
            "\n",
            "Left CRS: +init=epsg:4326 +type=crs\n",
            "Right CRS: EPSG:4326\n",
            "\n",
            "  \n"
          ],
          "name": "stderr"
        },
        {
          "output_type": "stream",
          "text": [
            "There are 1043 stores in the counties that matches the Stakeholders requirements\n"
          ],
          "name": "stdout"
        }
      ]
    },
    {
      "cell_type": "markdown",
      "metadata": {
        "id": "Om1b2cINYBUQ",
        "colab_type": "text"
      },
      "source": [
        "### 6) Visualize the store locations.\n",
        "\n",
        "Create a map that shows the locations of the stores that I identified in the previous code."
      ]
    },
    {
      "cell_type": "code",
      "metadata": {
        "trusted": true,
        "id": "G3eDHNZkYBUR",
        "colab_type": "code",
        "colab": {
          "base_uri": "https://localhost:8080/",
          "height": 663
        },
        "outputId": "49d4f3c5-3119-479f-fcb9-50af7444f6f5"
      },
      "source": [
        "# Create a base map\n",
        "m_6 = folium.Map(location=[37,-120], zoom_start=6)\n",
        "# Show selected store locations in a decluster way using MarkerCluster\n",
        "mc = MarkerCluster()\n",
        "\n",
        "locations_of_interest = gpd.sjoin(starbucks_gdf, sel_counties)\n",
        "for idx, row in locations_of_interest.iterrows():\n",
        "    if not math.isnan(row['Longitude']) and not math.isnan(row['Latitude']):\n",
        "        mc.add_child(folium.Marker([row['Latitude'], row['Longitude']]))\n",
        "m_6.add_child(mc)\n",
        "# Show the map\n",
        "embed_map(m_6, 'q_6.html')"
      ],
      "execution_count": 24,
      "outputs": [
        {
          "output_type": "stream",
          "text": [
            "/usr/local/lib/python3.6/dist-packages/ipykernel_launcher.py:6: UserWarning: CRS mismatch between the CRS of left geometries and the CRS of right geometries.\n",
            "Use `to_crs()` to reproject one of the input geometries to match the CRS of the other.\n",
            "\n",
            "Left CRS: +init=epsg:4326 +type=crs\n",
            "Right CRS: EPSG:4326\n",
            "\n",
            "  \n"
          ],
          "name": "stderr"
        },
        {
          "output_type": "execute_result",
          "data": {
            "text/html": [
              "\n",
              "        <iframe\n",
              "            width=\"100%\"\n",
              "            height=\"500px\"\n",
              "            src=\"q_6.html\"\n",
              "            frameborder=\"0\"\n",
              "            allowfullscreen\n",
              "        ></iframe>\n",
              "        "
            ],
            "text/plain": [
              "<IPython.lib.display.IFrame at 0x7f3c594a32e8>"
            ]
          },
          "metadata": {
            "tags": []
          },
          "execution_count": 24
        }
      ]
    },
    {
      "cell_type": "markdown",
      "metadata": {
        "id": "nsL2o2JcYBUS",
        "colab_type": "text"
      },
      "source": [
        "### Looking where to build 2 new Stores in San Francisco"
      ]
    },
    {
      "cell_type": "code",
      "metadata": {
        "trusted": true,
        "id": "LMkGTr_hYBUT",
        "colab_type": "code",
        "colab": {
          "base_uri": "https://localhost:8080/",
          "height": 72
        },
        "outputId": "24f3325f-4a6c-42bc-e1a3-62a9bc8f26af"
      },
      "source": [
        "# Create \"San_Francisco) df from \"starbucks\" \n",
        "San_Francisco = starbucks[starbucks[\"City\"]==\"San Francisco\"]\n",
        "# Creating a GeoDataFrame of \"San_Francisco\"\n",
        "San_Francisco_gdf = gpd.GeoDataFrame(San_Francisco, geometry=gpd.points_from_xy(San_Francisco.Longitude, San_Francisco.Latitude))\n",
        "# Adding the CRS data\n",
        "San_Francisco_gdf.crs = {'init': 'epsg:4326'}\n",
        "# Converting the ESPG to 2263 for unit purposes to convert in metres\n",
        "San_Francisco_gdf = San_Francisco_gdf.to_crs(epsg=2263)"
      ],
      "execution_count": 19,
      "outputs": [
        {
          "output_type": "stream",
          "text": [
            "/usr/local/lib/python3.6/dist-packages/pyproj/crs/crs.py:53: FutureWarning: '+init=<authority>:<code>' syntax is deprecated. '<authority>:<code>' is the preferred initialization method. When making the change, be mindful of axis order changes: https://pyproj4.github.io/pyproj/stable/gotchas.html#axis-order-changes-in-proj-6\n",
            "  return _prepare_from_string(\" \".join(pjargs))\n"
          ],
          "name": "stderr"
        }
      ]
    },
    {
      "cell_type": "code",
      "metadata": {
        "trusted": true,
        "id": "jHySSZmCYBUV",
        "colab_type": "code",
        "colab": {}
      },
      "source": [
        "# Creating a buffer of 1km radius to capture the coverage of each store in \"San_Francisco\"\n",
        "buffer_in_meters = (1 * 1000) # Change the kms wished to cover\n",
        "coverage = gpd.GeoDataFrame(geometry=San_Francisco_gdf.geometry).buffer(buffer_in_meters)"
      ],
      "execution_count": 20,
      "outputs": []
    },
    {
      "cell_type": "code",
      "metadata": {
        "trusted": true,
        "id": "-gjCaGmjYBUX",
        "colab_type": "code",
        "colab": {
          "base_uri": "https://localhost:8080/",
          "height": 521
        },
        "outputId": "8727cf01-b73f-44df-cf4b-596232b901f5"
      },
      "source": [
        "# Create map with release incidents and monitoring stations\n",
        "m_7 = folium.Map(location=[37.77,-122.4], zoom_start=12)\n",
        "# View SF stores\n",
        "for idx, row in San_Francisco_gdf.iterrows():\n",
        "    Marker([row['Latitude'], row['Longitude']]).add_to(m_7)\n",
        "# Plot each polygon on the map\n",
        "folium.GeoJson(coverage.geometry.to_crs(epsg=4326)).add_to(m_7)\n",
        "# Adding the Ltn and Lat data markers\n",
        "folium.LatLngPopup().add_to(m_7)\n",
        "# Show map - When clicking on the map, it will display the Lat. and Long.\n",
        "embed_map(m_7, 'q_7.html')"
      ],
      "execution_count": 25,
      "outputs": [
        {
          "output_type": "execute_result",
          "data": {
            "text/html": [
              "\n",
              "        <iframe\n",
              "            width=\"100%\"\n",
              "            height=\"500px\"\n",
              "            src=\"q_7.html\"\n",
              "            frameborder=\"0\"\n",
              "            allowfullscreen\n",
              "        ></iframe>\n",
              "        "
            ],
            "text/plain": [
              "<IPython.lib.display.IFrame at 0x7f3c59309710>"
            ]
          },
          "metadata": {
            "tags": []
          },
          "execution_count": 25
        }
      ]
    },
    {
      "cell_type": "code",
      "metadata": {
        "trusted": true,
        "id": "72I76wPzYBUZ",
        "colab_type": "code",
        "colab": {
          "base_uri": "https://localhost:8080/",
          "height": 576
        },
        "outputId": "78f8d409-452f-4e05-c554-d468fa6aa79b"
      },
      "source": [
        "# Provide 2 new locations for potential new stores\n",
        "# Proposed location of hospital 1\n",
        "lat_1 = 37.7771\n",
        "long_1 = -122.4650\n",
        "\n",
        "# Proposed location of hospital 2\n",
        "lat_2 = 37.7442\n",
        "long_2 = -122.4136\n",
        "\n",
        "# Do not modify the code below this line - Creating a new_df based on choosen location\n",
        "new_df = pd.DataFrame(\n",
        "        {'Latitude': [lat_1, lat_2],\n",
        "         'Longitude': [long_1, long_2]})\n",
        "new_gdf = gpd.GeoDataFrame(new_df, geometry=gpd.points_from_xy(new_df.Longitude, new_df.Latitude))\n",
        "new_gdf.crs = {'init' :'epsg:4326'}\n",
        "new_gdf = new_gdf.to_crs(epsg=2263) # Converting to ESPG 2263 to be on the same scale as previous map\n",
        "# get new coverage\n",
        "new_coverage = gpd.GeoDataFrame(geometry=new_gdf.geometry).buffer(buffer_in_meters)\n",
        "# make the map\n",
        "m_8 = folium.Map(location=[37.77,-122.4], zoom_start=12) \n",
        "folium.GeoJson(coverage.geometry.to_crs(epsg=4326)).add_to(m_8) # Adding existing coverage\n",
        "folium.GeoJson(new_coverage.geometry.to_crs(epsg=4326)).add_to(m_8) # Adding new coverage\n",
        "# Add new stores\n",
        "for idx, row in new_gdf.iterrows():\n",
        "    Marker([row['Latitude'], row['Longitude']], icon=folium.Icon(color=\"red\")).add_to(m_8)\n",
        "# View existing stores\n",
        "for idx, row in San_Francisco_gdf.iterrows():\n",
        "    Marker([row['Latitude'], row['Longitude']]).add_to(m_8)\n",
        "folium.LatLngPopup().add_to(m_8)\n",
        "# Display Map labelled with Red dots\n",
        "embed_map(m_8, 'q_8.html')"
      ],
      "execution_count": 26,
      "outputs": [
        {
          "output_type": "stream",
          "text": [
            "/usr/local/lib/python3.6/dist-packages/pyproj/crs/crs.py:53: FutureWarning: '+init=<authority>:<code>' syntax is deprecated. '<authority>:<code>' is the preferred initialization method. When making the change, be mindful of axis order changes: https://pyproj4.github.io/pyproj/stable/gotchas.html#axis-order-changes-in-proj-6\n",
            "  return _prepare_from_string(\" \".join(pjargs))\n"
          ],
          "name": "stderr"
        },
        {
          "output_type": "execute_result",
          "data": {
            "text/html": [
              "\n",
              "        <iframe\n",
              "            width=\"100%\"\n",
              "            height=\"500px\"\n",
              "            src=\"q_8.html\"\n",
              "            frameborder=\"0\"\n",
              "            allowfullscreen\n",
              "        ></iframe>\n",
              "        "
            ],
            "text/plain": [
              "<IPython.lib.display.IFrame at 0x7f3c591ca080>"
            ]
          },
          "metadata": {
            "tags": []
          },
          "execution_count": 26
        }
      ]
    },
    {
      "cell_type": "markdown",
      "metadata": {
        "id": "5JMzVF9vfey2",
        "colab_type": "text"
      },
      "source": [
        "## Conclusion\n",
        "The above is where I believe we should build 2 new Starbucks Reserve Roastery. "
      ]
    }
  ]
}